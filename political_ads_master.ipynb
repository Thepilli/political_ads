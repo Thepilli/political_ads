{
 "cells": [
  {
   "cell_type": "code",
   "execution_count": 1,
   "metadata": {},
   "outputs": [
    {
     "name": "stderr",
     "output_type": "stream",
     "text": [
      "/var/folders/tn/b73k99cd7hq4q7j45x8vbg5w0000gn/T/ipykernel_5857/704086083.py:31: DtypeWarning: Columns (10) have mixed types. Specify dtype option on import or set low_memory=False.\n",
      "  df = pd.read_csv(file_path)\n"
     ]
    },
    {
     "name": "stdout",
     "output_type": "stream",
     "text": [
      "Master files created successfully!\n"
     ]
    }
   ],
   "source": [
    "import os\n",
    "import pandas as pd\n",
    "\n",
    "# Path to the main directory containing subfolders\n",
    "base_dir = \"/Users/zackrawr/Developer/Python_WS/political_ads/ad_data\"\n",
    "output_dir = \"/Users/zackrawr/Developer/Python_WS/political_ads\"\n",
    "\n",
    "# Ensure the output directory exists\n",
    "os.makedirs(output_dir, exist_ok=True)\n",
    "\n",
    "# Dictionary to store dataframes for each master file\n",
    "master_data = {\n",
    "    \"creative_data\": [],\n",
    "    \"demo_data\": [],\n",
    "    \"fact_data\": [],\n",
    "    \"platform_data\": [],\n",
    "    \"reach_data\": [],\n",
    "    \"region_data\": []\n",
    "}\n",
    "\n",
    "# Loop through each folder in the base directory\n",
    "for folder in os.listdir(base_dir):\n",
    "    folder_path = os.path.join(base_dir, folder)\n",
    "    if os.path.isdir(folder_path):  # Ensure it's a directory\n",
    "        for file in os.listdir(folder_path):\n",
    "            file_path = os.path.join(folder_path, file)\n",
    "            if file.endswith(\".csv\"):\n",
    "                # Determine the type of CSV file (e.g., creative_data, demo_data)\n",
    "                file_type = file.split(\"_\")[-2] + \"_data\"\n",
    "                if file_type in master_data:\n",
    "                    df = pd.read_csv(file_path)\n",
    "                    master_data[file_type].append(df)\n",
    "\n",
    "# Combine and save each master file\n",
    "for file_type, dataframes in master_data.items():\n",
    "    if dataframes:\n",
    "        combined_df = pd.concat(dataframes, ignore_index=True)\n",
    "        combined_df.to_csv(os.path.join(output_dir, f\"master_{file_type}.csv\"), index=False)\n",
    "\n",
    "print(\"Master files created successfully!\")"
   ]
  }
 ],
 "metadata": {
  "kernelspec": {
   "display_name": "Python 3",
   "language": "python",
   "name": "python3"
  },
  "language_info": {
   "codemirror_mode": {
    "name": "ipython",
    "version": 3
   },
   "file_extension": ".py",
   "mimetype": "text/x-python",
   "name": "python",
   "nbconvert_exporter": "python",
   "pygments_lexer": "ipython3",
   "version": "3.13.0"
  }
 },
 "nbformat": 4,
 "nbformat_minor": 2
}
