{
 "cells": [
  {
   "cell_type": "code",
   "execution_count": null,
   "metadata": {},
   "outputs": [],
   "source": [
    "import os\n",
    "\n",
    "source = \"ad_data\"\n",
    "output_dir = os.getcwd()\n",
    "base_dir = os.path.join(output_dir, source)\n",
    "\n",
    "print(base_dir)\n",
    "print(output_dir)"
   ]
  },
  {
   "cell_type": "code",
   "execution_count": 16,
   "metadata": {},
   "outputs": [
    {
     "name": "stdout",
     "output_type": "stream",
     "text": [
      "Master files created successfully!\n"
     ]
    }
   ],
   "source": [
    "import os\n",
    "import pandas as pd\n",
    "\n",
    "# Path to the main directory containing subfolders\n",
    "source = \"ad_data\"\n",
    "output_dir = os.getcwd()\n",
    "base_dir = os.path.join(output_dir, source)\n",
    "\n",
    "# Ensure the output directory exists\n",
    "os.makedirs(output_dir, exist_ok=True)\n",
    "\n",
    "# Dictionary to store dataframes for each master file\n",
    "master_data = {\n",
    "    \"creative_data\": [],\n",
    "    \"demo_data\": [],\n",
    "    \"fact_data\": [],\n",
    "    \"platform_data\": [],\n",
    "    \"reach_data\": [],\n",
    "    \"region_data\": []\n",
    "}\n",
    "\n",
    "# Loop through each folder in the base directory\n",
    "for folder in os.listdir(base_dir):\n",
    "    folder_path = os.path.join(base_dir, folder)\n",
    "    if os.path.isdir(folder_path):  # Ensure it's a directory\n",
    "        for file in os.listdir(folder_path):\n",
    "            file_path = os.path.join(folder_path, file)\n",
    "            if file.endswith(\".csv\"):\n",
    "                # Determine the type of CSV file (e.g., creative_data, demo_data)\n",
    "                file_type = file.split(\"_\")[-2] + \"_data\"\n",
    "                if file_type in master_data:\n",
    "                    df = pd.read_csv(file_path)\n",
    "                    master_data[file_type].append(df)\n",
    "\n",
    "# Combine, remove duplicates, and save each master file\n",
    "for file_type, dataframes in master_data.items():\n",
    "    if dataframes:\n",
    "        combined_df = pd.concat(dataframes, ignore_index=True)\n",
    "        combined_df = combined_df.drop_duplicates()  # Remove duplicate rows\n",
    "        combined_df.to_csv(os.path.join(output_dir, f\"master_{file_type}.csv\"), index=False)\n",
    "\n",
    "\n",
    "print(\"Master files created successfully!\")"
   ]
  },
  {
   "cell_type": "code",
   "execution_count": 14,
   "metadata": {},
   "outputs": [
    {
     "name": "stdout",
     "output_type": "stream",
     "text": [
      "All fact data files merged successfully!\n"
     ]
    }
   ],
   "source": [
    "import os\n",
    "import pandas as pd\n",
    "# Initialize an empty list to store dataframes\n",
    "all_data = []\n",
    "\n",
    "# Loop through each folder in the base directory\n",
    "for folder in os.listdir(base_dir):\n",
    "    folder_path = os.path.join(base_dir, folder)\n",
    "    if os.path.isdir(folder_path):  # Ensure it's a directory\n",
    "        for file in os.listdir(folder_path):\n",
    "            if file.endswith(\"_fact_data.csv\"):\n",
    "                file_path = os.path.join(folder_path, file)\n",
    "                df = pd.read_csv(file_path)\n",
    "                all_data.append(df)\n",
    "\n",
    "# Concatenate all dataframes into a single dataframe\n",
    "merged_df = pd.concat(all_data, ignore_index=True)\n",
    "merged_df = merged_df.drop_duplicates()  # Remove duplicate rows\n",
    "\n",
    "# Save the merged dataframe to a CSV file\n",
    "merged_df.to_csv(os.path.join(output_dir, \"merged_fact_data.csv\"), index=False)\n",
    "\n",
    "print(\"All fact data files merged successfully!\")"
   ]
  },
  {
   "cell_type": "code",
   "execution_count": 15,
   "metadata": {},
   "outputs": [
    {
     "name": "stdout",
     "output_type": "stream",
     "text": [
      "26844\n"
     ]
    }
   ],
   "source": [
    "print(len(merged_df))"
   ]
  }
 ],
 "metadata": {
  "kernelspec": {
   "display_name": "Python 3",
   "language": "python",
   "name": "python3"
  },
  "language_info": {
   "codemirror_mode": {
    "name": "ipython",
    "version": 3
   },
   "file_extension": ".py",
   "mimetype": "text/x-python",
   "name": "python",
   "nbconvert_exporter": "python",
   "pygments_lexer": "ipython3",
   "version": "3.12.2"
  }
 },
 "nbformat": 4,
 "nbformat_minor": 2
}
