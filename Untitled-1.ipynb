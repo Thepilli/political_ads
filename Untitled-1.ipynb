{
 "cells": [
  {
   "cell_type": "code",
   "execution_count": 13,
   "id": "19631548",
   "metadata": {},
   "outputs": [
    {
     "data": {
      "application/vnd.microsoft.datawrangler.viewer.v0+json": {
       "columns": [
        {
         "name": "index",
         "rawType": "int64",
         "type": "integer"
        },
        {
         "name": "Disclaimer",
         "rawType": "object",
         "type": "string"
        },
        {
         "name": "Amount spent (CZK)",
         "rawType": "int64",
         "type": "integer"
        },
        {
         "name": "Number of ads in Library",
         "rawType": "int64",
         "type": "integer"
        }
       ],
       "ref": "cd90d28a-e25d-407b-936f-6642720d9c04",
       "rows": [
        [
         "152",
         "ODS - Občanská demokratická strana",
         "1351222",
         "1141"
        ],
        [
         "265",
         "Česká pirátská strana",
         "598654",
         "175"
        ],
        [
         "155",
         "Občanská demokratická strana",
         "296802",
         "380"
        ],
        [
         "218",
         "Starostové a nezávislí • STAN",
         "271314",
         "351"
        ],
        [
         "142",
         "Nadační fond pro Ukrajinu",
         "218673",
         "82"
        ],
        [
         "273",
         "Člověk v tísni, o.p.s.",
         "206776",
         "50"
        ],
        [
         "8",
         "Andrej Babiš",
         "187189",
         "32"
        ],
        [
         "253",
         "Zdravotnický deník",
         "179842",
         "28"
        ],
        [
         "228",
         "TOP 09",
         "128857",
         "107"
        ],
        [
         "15",
         "Bold News",
         "75232",
         "60"
        ],
        [
         "231",
         "These ads ran without a disclaimer",
         "72187",
         "124"
        ],
        [
         "51",
         "Greenpeace Česká republika",
         "62442",
         "66"
        ],
        [
         "78",
         "KDU-ČSL",
         "60332",
         "116"
        ],
        [
         "222",
         "Svoboda a přímá demokracie",
         "59825",
         "109"
        ],
        [
         "22",
         "CZECH NEWS CENTER a. s.",
         "55523",
         "32"
        ],
        [
         "128",
         "Ministerstvo práce a sociálních věcí",
         "53284",
         "35"
        ],
        [
         "126",
         "Milion chvilek pro demokracii",
         "51578",
         "58"
        ],
        [
         "70",
         "Jana Bobošíková",
         "50390",
         "31"
        ],
        [
         "256",
         "Zjisti víc",
         "44894",
         "34"
        ],
        [
         "269",
         "Český rozhlas",
         "44806",
         "88"
        ],
        [
         "137",
         "Motoristé sobě",
         "44650",
         "82"
        ],
        [
         "107",
         "Lékaři bez hranic - Médecins Sans Frontières in Czech Republic, o. p. s.",
         "44395",
         "12"
        ],
        [
         "160",
         "Ondrej Prokop",
         "42640",
         "11"
        ],
        [
         "184",
         "Prague Pride z.s.",
         "38707",
         "14"
        ],
        [
         "6",
         "Aliance pro budoucnost",
         "35762",
         "44"
        ],
        [
         "2",
         "ANO",
         "33649",
         "27"
        ],
        [
         "191",
         "Radim F. Holeček",
         "29912",
         "3"
        ],
        [
         "43",
         "European Parliament",
         "26276",
         "13"
        ],
        [
         "148",
         "Nikola Bartůšek",
         "25121",
         "4"
        ],
        [
         "247",
         "XTV",
         "24894",
         "75"
        ],
        [
         "239",
         "UplivinQ Group",
         "23838",
         "16"
        ],
        [
         "267",
         "Česká pirátská strana - Praha",
         "22756",
         "20"
        ],
        [
         "125",
         "Milion Chvilek, z. s.",
         "21748",
         "104"
        ],
        [
         "27",
         "DFMG",
         "21025",
         "12"
        ],
        [
         "33",
         "Denik.to",
         "20356",
         "27"
        ],
        [
         "115",
         "Martin Benkovič, 1. místostarosta Prahy 17 - Řepy",
         "19671",
         "8"
        ],
        [
         "217",
         "Starostové a nezávislí",
         "19372",
         "31"
        ],
        [
         "24",
         "Centrum pro regionální rozvoj České republiky",
         "19338",
         "12"
        ],
        [
         "268",
         "Česká pirátská strana\\t",
         "18453",
         "14"
        ],
        [
         "92",
         "Kupředu do minulosti s.r.o.",
         "18093",
         "25"
        ],
        [
         "201",
         "SMS - Stát má sloužit",
         "17289",
         "15"
        ],
        [
         "143",
         "Naše zdravotnictví",
         "16825",
         "18"
        ],
        [
         "263",
         "Česko funguj",
         "15995",
         "23"
        ],
        [
         "129",
         "Ministerstvo zemědělství",
         "15877",
         "24"
        ],
        [
         "183",
         "Post Bellum, z.ú.",
         "15847",
         "21"
        ],
        [
         "225",
         "Svoboda zvířat Plzeň, z.s.",
         "15528",
         "4"
        ],
        [
         "238",
         "UNICEF Česká republika",
         "14977",
         "17"
        ],
        [
         "14",
         "Billboardy pomáhají",
         "14411",
         "9"
        ],
        [
         "34",
         "Despre Moldova - Cehia",
         "14369",
         "17"
        ],
        [
         "252",
         "Zdeněk Kettner - SPD",
         "13515",
         "7"
        ]
       ],
       "shape": {
        "columns": 3,
        "rows": 100
       }
      },
      "text/html": [
       "<div>\n",
       "<style scoped>\n",
       "    .dataframe tbody tr th:only-of-type {\n",
       "        vertical-align: middle;\n",
       "    }\n",
       "\n",
       "    .dataframe tbody tr th {\n",
       "        vertical-align: top;\n",
       "    }\n",
       "\n",
       "    .dataframe thead th {\n",
       "        text-align: right;\n",
       "    }\n",
       "</style>\n",
       "<table border=\"1\" class=\"dataframe\">\n",
       "  <thead>\n",
       "    <tr style=\"text-align: right;\">\n",
       "      <th></th>\n",
       "      <th>Disclaimer</th>\n",
       "      <th>Amount spent (CZK)</th>\n",
       "      <th>Number of ads in Library</th>\n",
       "    </tr>\n",
       "  </thead>\n",
       "  <tbody>\n",
       "    <tr>\n",
       "      <th>152</th>\n",
       "      <td>ODS - Občanská demokratická strana</td>\n",
       "      <td>1351222</td>\n",
       "      <td>1141</td>\n",
       "    </tr>\n",
       "    <tr>\n",
       "      <th>265</th>\n",
       "      <td>Česká pirátská strana</td>\n",
       "      <td>598654</td>\n",
       "      <td>175</td>\n",
       "    </tr>\n",
       "    <tr>\n",
       "      <th>155</th>\n",
       "      <td>Občanská demokratická strana</td>\n",
       "      <td>296802</td>\n",
       "      <td>380</td>\n",
       "    </tr>\n",
       "    <tr>\n",
       "      <th>218</th>\n",
       "      <td>Starostové a nezávislí • STAN</td>\n",
       "      <td>271314</td>\n",
       "      <td>351</td>\n",
       "    </tr>\n",
       "    <tr>\n",
       "      <th>142</th>\n",
       "      <td>Nadační fond pro Ukrajinu</td>\n",
       "      <td>218673</td>\n",
       "      <td>82</td>\n",
       "    </tr>\n",
       "    <tr>\n",
       "      <th>...</th>\n",
       "      <td>...</td>\n",
       "      <td>...</td>\n",
       "      <td>...</td>\n",
       "    </tr>\n",
       "    <tr>\n",
       "      <th>211</th>\n",
       "      <td>Solární asociace</td>\n",
       "      <td>4622</td>\n",
       "      <td>9</td>\n",
       "    </tr>\n",
       "    <tr>\n",
       "      <th>30</th>\n",
       "      <td>David Surý - tvor komunální</td>\n",
       "      <td>4600</td>\n",
       "      <td>25</td>\n",
       "    </tr>\n",
       "    <tr>\n",
       "      <th>127</th>\n",
       "      <td>Ministerstvo pro místní rozvoj</td>\n",
       "      <td>4492</td>\n",
       "      <td>10</td>\n",
       "    </tr>\n",
       "    <tr>\n",
       "      <th>264</th>\n",
       "      <td>Česká lékařská komora</td>\n",
       "      <td>4414</td>\n",
       "      <td>8</td>\n",
       "    </tr>\n",
       "    <tr>\n",
       "      <th>151</th>\n",
       "      <td>ODS</td>\n",
       "      <td>4162</td>\n",
       "      <td>11</td>\n",
       "    </tr>\n",
       "  </tbody>\n",
       "</table>\n",
       "<p>100 rows × 3 columns</p>\n",
       "</div>"
      ],
      "text/plain": [
       "                             Disclaimer  Amount spent (CZK)  \\\n",
       "152  ODS - Občanská demokratická strana             1351222   \n",
       "265               Česká pirátská strana              598654   \n",
       "155        Občanská demokratická strana              296802   \n",
       "218       Starostové a nezávislí • STAN              271314   \n",
       "142           Nadační fond pro Ukrajinu              218673   \n",
       "..                                  ...                 ...   \n",
       "211                    Solární asociace                4622   \n",
       "30          David Surý - tvor komunální                4600   \n",
       "127      Ministerstvo pro místní rozvoj                4492   \n",
       "264               Česká lékařská komora                4414   \n",
       "151                                 ODS                4162   \n",
       "\n",
       "     Number of ads in Library  \n",
       "152                      1141  \n",
       "265                       175  \n",
       "155                       380  \n",
       "218                       351  \n",
       "142                        82  \n",
       "..                        ...  \n",
       "211                         9  \n",
       "30                         25  \n",
       "127                        10  \n",
       "264                         8  \n",
       "151                        11  \n",
       "\n",
       "[100 rows x 3 columns]"
      ]
     },
     "execution_count": 13,
     "metadata": {},
     "output_type": "execute_result"
    }
   ],
   "source": [
    "import pandas as pd\n",
    "\n",
    "# Replace 'your_file.csv' with the path to your CSV file\n",
    "df = pd.read_csv(\"C://Users//jirip//Desktop//FacebookAdLibraryReport_2025-08-13_CZ_last_30_days_advertisers.csv\")\n",
    "\n",
    "df = df[df['Amount spent (CZK)'] != '≤100']\n",
    "df.head()\n",
    "# Convert 'Amount spent (CZK)' to numeric\n",
    "df['Amount spent (CZK)'] = pd.to_numeric(df['Amount spent (CZK)'], errors='coerce')\n",
    "\n",
    "# Group by 'Disclaimer' and sum the relevant columns\n",
    "grouped30_df = df.groupby('Disclaimer', as_index=False).agg({\n",
    "    'Amount spent (CZK)': 'sum',\n",
    "    'Number of ads in Library': 'sum'\n",
    "})\n",
    "grouped30_df = grouped30_df.sort_values(by='Amount spent (CZK)', ascending=False)\n",
    "grouped30_df = grouped30_df.head(100)\n",
    "\n",
    "\n",
    "# Display the grouped DataFrame\n",
    "grouped30_df"
   ]
  },
  {
   "cell_type": "code",
   "execution_count": 14,
   "id": "a46ecbed",
   "metadata": {},
   "outputs": [
    {
     "data": {
      "application/vnd.microsoft.datawrangler.viewer.v0+json": {
       "columns": [
        {
         "name": "index",
         "rawType": "int64",
         "type": "integer"
        },
        {
         "name": "Disclaimer",
         "rawType": "object",
         "type": "string"
        },
        {
         "name": "Amount spent (CZK)",
         "rawType": "int64",
         "type": "integer"
        },
        {
         "name": "Number of ads in Library",
         "rawType": "int64",
         "type": "integer"
        }
       ],
       "ref": "10460beb-124b-4251-b8c9-f329e036a467",
       "rows": [
        [
         "259",
         "ODS - Občanská demokratická strana",
         "2663625",
         "1714"
        ],
        [
         "448",
         "Česká pirátská strana",
         "966755",
         "256"
        ],
        [
         "245",
         "Nadační fond pro Ukrajinu",
         "703134",
         "110"
        ],
        [
         "371",
         "Starostové a nezávislí • STAN",
         "622678",
         "517"
        ],
        [
         "268",
         "Občanská demokratická strana",
         "549232",
         "510"
        ],
        [
         "13",
         "Andrej Babiš",
         "504698",
         "80"
        ],
        [
         "378",
         "Svoboda a přímá demokracie",
         "420149",
         "378"
        ],
        [
         "233",
         "Motoristé sobě",
         "360372",
         "144"
        ],
        [
         "385",
         "TOP 09",
         "332639",
         "227"
        ],
        [
         "3",
         "ANO",
         "295315",
         "135"
        ],
        [
         "391",
         "These ads ran without a disclaimer",
         "291914",
         "434"
        ],
        [
         "86",
         "Greenpeace Česká republika",
         "260343",
         "165"
        ],
        [
         "456",
         "Člověk v tísni, o.p.s.",
         "253061",
         "73"
        ],
        [
         "427",
         "Zdravotnický deník",
         "227714",
         "35"
        ],
        [
         "452",
         "Český rozhlas",
         "161840",
         "183"
        ],
        [
         "31",
         "CZECH NEWS CENTER a. s.",
         "161598",
         "86"
        ],
        [
         "219",
         "Ministerstvo práce a sociálních věcí",
         "139985",
         "65"
        ],
        [
         "350",
         "STAROSTOVÉ A NEZÁVISLÍ",
         "134537",
         "44"
        ],
        [
         "362",
         "Sociální demokracie",
         "130476",
         "49"
        ],
        [
         "430",
         "Zjisti víc",
         "125936",
         "95"
        ],
        [
         "8",
         "Aliance pro budoucnost",
         "106666",
         "125"
        ],
        [
         "275",
         "Ondrej Prokop",
         "103644",
         "30"
        ],
        [
         "133",
         "KDU-ČSL",
         "103571",
         "178"
        ],
        [
         "180",
         "Lékaři bez hranic - Médecins Sans Frontières in Czech Republic, o. p. s.",
         "94044",
         "31"
        ],
        [
         "22",
         "Bold News",
         "92242",
         "80"
        ],
        [
         "216",
         "Milion chvilek pro demokracii",
         "92068",
         "115"
        ],
        [
         "72",
         "European Parliament",
         "87749",
         "25"
        ],
        [
         "253",
         "Nikola Bartůšek",
         "87021",
         "8"
        ],
        [
         "382",
         "Svoboda zvířat Plzeň, z.s.",
         "80027",
         "28"
        ],
        [
         "301",
         "Petice Soutok",
         "78925",
         "88"
        ],
        [
         "61",
         "Díky, že můžem, z. s.",
         "73437",
         "14"
        ],
        [
         "35",
         "Centrum pro regionální rozvoj České republiky",
         "70122",
         "27"
        ],
        [
         "329",
         "Radim F. Holeček",
         "68430",
         "8"
        ],
        [
         "420",
         "XTV",
         "68220",
         "151"
        ],
        [
         "55",
         "Denik.to",
         "67737",
         "130"
        ],
        [
         "123",
         "Jana Maláčová",
         "66633",
         "54"
        ],
        [
         "43",
         "DFMG",
         "63106",
         "31"
        ],
        [
         "215",
         "Milion Chvilek, z. s.",
         "62782",
         "252"
        ],
        [
         "193",
         "Martin Benkovič, 1. místostarosta Prahy 17 - Řepy",
         "62395",
         "29"
        ],
        [
         "404",
         "UplivinQ Group",
         "56179",
         "32"
        ],
        [
         "440",
         "ČSOB",
         "54145",
         "8"
        ],
        [
         "122",
         "Jana Bobošíková",
         "52387",
         "31"
        ],
        [
         "450",
         "Česká pirátská strana - Praha",
         "51230",
         "70"
        ],
        [
         "317",
         "Post Bellum, z.ú.",
         "49628",
         "70"
        ],
        [
         "246",
         "Naše zdravotnictví",
         "47569",
         "59"
        ],
        [
         "158",
         "Kupředu do minulosti s.r.o.",
         "47097",
         "68"
        ],
        [
         "370",
         "Starostové a nezávislí",
         "46442",
         "63"
        ],
        [
         "318",
         "Prague Pride z.s.",
         "45417",
         "36"
        ],
        [
         "73",
         "Eva Decroix",
         "45266",
         "27"
        ],
        [
         "443",
         "Česko funguj",
         "43194",
         "37"
        ]
       ],
       "shape": {
        "columns": 3,
        "rows": 100
       }
      },
      "text/html": [
       "<div>\n",
       "<style scoped>\n",
       "    .dataframe tbody tr th:only-of-type {\n",
       "        vertical-align: middle;\n",
       "    }\n",
       "\n",
       "    .dataframe tbody tr th {\n",
       "        vertical-align: top;\n",
       "    }\n",
       "\n",
       "    .dataframe thead th {\n",
       "        text-align: right;\n",
       "    }\n",
       "</style>\n",
       "<table border=\"1\" class=\"dataframe\">\n",
       "  <thead>\n",
       "    <tr style=\"text-align: right;\">\n",
       "      <th></th>\n",
       "      <th>Disclaimer</th>\n",
       "      <th>Amount spent (CZK)</th>\n",
       "      <th>Number of ads in Library</th>\n",
       "    </tr>\n",
       "  </thead>\n",
       "  <tbody>\n",
       "    <tr>\n",
       "      <th>259</th>\n",
       "      <td>ODS - Občanská demokratická strana</td>\n",
       "      <td>2663625</td>\n",
       "      <td>1714</td>\n",
       "    </tr>\n",
       "    <tr>\n",
       "      <th>448</th>\n",
       "      <td>Česká pirátská strana</td>\n",
       "      <td>966755</td>\n",
       "      <td>256</td>\n",
       "    </tr>\n",
       "    <tr>\n",
       "      <th>245</th>\n",
       "      <td>Nadační fond pro Ukrajinu</td>\n",
       "      <td>703134</td>\n",
       "      <td>110</td>\n",
       "    </tr>\n",
       "    <tr>\n",
       "      <th>371</th>\n",
       "      <td>Starostové a nezávislí • STAN</td>\n",
       "      <td>622678</td>\n",
       "      <td>517</td>\n",
       "    </tr>\n",
       "    <tr>\n",
       "      <th>268</th>\n",
       "      <td>Občanská demokratická strana</td>\n",
       "      <td>549232</td>\n",
       "      <td>510</td>\n",
       "    </tr>\n",
       "    <tr>\n",
       "      <th>...</th>\n",
       "      <td>...</td>\n",
       "      <td>...</td>\n",
       "      <td>...</td>\n",
       "    </tr>\n",
       "    <tr>\n",
       "      <th>293</th>\n",
       "      <td>Pavel Huml</td>\n",
       "      <td>13552</td>\n",
       "      <td>9</td>\n",
       "    </tr>\n",
       "    <tr>\n",
       "      <th>92</th>\n",
       "      <td>Hnutí DUHA</td>\n",
       "      <td>13058</td>\n",
       "      <td>6</td>\n",
       "    </tr>\n",
       "    <tr>\n",
       "      <th>368</th>\n",
       "      <td>Stanislav Blaha</td>\n",
       "      <td>13056</td>\n",
       "      <td>24</td>\n",
       "    </tr>\n",
       "    <tr>\n",
       "      <th>279</th>\n",
       "      <td>Ondřej Počarovský, Radní Prahy 10</td>\n",
       "      <td>13046</td>\n",
       "      <td>24</td>\n",
       "    </tr>\n",
       "    <tr>\n",
       "      <th>105</th>\n",
       "      <td>Jakub Horák</td>\n",
       "      <td>12838</td>\n",
       "      <td>7</td>\n",
       "    </tr>\n",
       "  </tbody>\n",
       "</table>\n",
       "<p>100 rows × 3 columns</p>\n",
       "</div>"
      ],
      "text/plain": [
       "                             Disclaimer  Amount spent (CZK)  \\\n",
       "259  ODS - Občanská demokratická strana             2663625   \n",
       "448               Česká pirátská strana              966755   \n",
       "245           Nadační fond pro Ukrajinu              703134   \n",
       "371       Starostové a nezávislí • STAN              622678   \n",
       "268        Občanská demokratická strana              549232   \n",
       "..                                  ...                 ...   \n",
       "293                          Pavel Huml               13552   \n",
       "92                           Hnutí DUHA               13058   \n",
       "368                     Stanislav Blaha               13056   \n",
       "279   Ondřej Počarovský, Radní Prahy 10               13046   \n",
       "105                         Jakub Horák               12838   \n",
       "\n",
       "     Number of ads in Library  \n",
       "259                      1714  \n",
       "448                       256  \n",
       "245                       110  \n",
       "371                       517  \n",
       "268                       510  \n",
       "..                        ...  \n",
       "293                         9  \n",
       "92                          6  \n",
       "368                        24  \n",
       "279                        24  \n",
       "105                         7  \n",
       "\n",
       "[100 rows x 3 columns]"
      ]
     },
     "execution_count": 14,
     "metadata": {},
     "output_type": "execute_result"
    }
   ],
   "source": [
    "import pandas as pd\n",
    "\n",
    "# Replace 'your_file.csv' with the path to your CSV file\n",
    "df = pd.read_csv(\"C://Users//jirip//Desktop//FacebookAdLibraryReport_2025-08-13_CZ_last_90_days_advertisers.csv\")\n",
    "\n",
    "df = df[df['Amount spent (CZK)'] != '≤100']\n",
    "df.head()\n",
    "# Convert 'Amount spent (CZK)' to numeric\n",
    "df['Amount spent (CZK)'] = pd.to_numeric(df['Amount spent (CZK)'], errors='coerce')\n",
    "\n",
    "# Group by 'Disclaimer' and sum the relevant columns\n",
    "grouped90_df = df.groupby('Disclaimer', as_index=False).agg({\n",
    "    'Amount spent (CZK)': 'sum',\n",
    "    'Number of ads in Library': 'sum'\n",
    "})\n",
    "grouped90_df = grouped90_df.sort_values(by='Amount spent (CZK)', ascending=False)\n",
    "grouped90_df = grouped90_df.head(100)\n",
    "# Display the grouped DataFrame\n",
    "grouped90_df"
   ]
  },
  {
   "cell_type": "code",
   "execution_count": 12,
   "id": "ba986f84",
   "metadata": {},
   "outputs": [
    {
     "data": {
      "application/vnd.microsoft.datawrangler.viewer.v0+json": {
       "columns": [
        {
         "name": "index",
         "rawType": "int64",
         "type": "integer"
        },
        {
         "name": "Bylines",
         "rawType": "object",
         "type": "string"
        },
        {
         "name": "Bylines_key",
         "rawType": "int64",
         "type": "integer"
        },
        {
         "name": "Bylines_grp",
         "rawType": "object",
         "type": "string"
        },
        {
         "name": "is_political",
         "rawType": "int64",
         "type": "integer"
        }
       ],
       "ref": "9ac766e0-a981-4bbb-adc1-b464b5503713",
       "rows": [
        [
         "2",
         "Andrej Babiš",
         "2",
         "Ano",
         "1"
        ],
        [
         "3",
         "Ano",
         "3",
         "Ano",
         "1"
        ],
        [
         "4",
         "Ano 2011",
         "4",
         "Ano",
         "1"
        ],
        [
         "5",
         "Berenika Peštová-Poslankyně",
         "5",
         "Ano",
         "1"
        ],
        [
         "8",
         "Daniel Kůs - Radní Plzně",
         "8",
         "Česká Pirátská Strana",
         "1"
        ],
        [
         "9",
         "David Surý - Tvor Komunální",
         "9",
         "Kdu-Čsl",
         "1"
        ],
        [
         "22",
         "Jakub Horák",
         "22",
         "Česká Pirátská Strana",
         "1"
        ],
        [
         "23",
         "Jana Hanzlíková - Poslankyně",
         "23",
         "Ano",
         "1"
        ],
        [
         "24",
         "Jana Maláčová",
         "24",
         "Sociální Demokracie",
         "1"
        ],
        [
         "26",
         "Kamal Farhan",
         "26",
         "Ano",
         "1"
        ],
        [
         "28",
         "Karel Smetana",
         "28",
         "Kdu-Čsl",
         "1"
        ],
        [
         "29",
         "Kdu-Čsl",
         "29",
         "Kdu-Čsl",
         "1"
        ],
        [
         "30",
         "Komunistická Strana Čech A Moravy",
         "30",
         "Komunistická Strana Čech A Moravy",
         "1"
        ],
        [
         "32",
         "Kužílková Lucie",
         "32",
         "Občanská Demokratická Strana",
         "1"
        ],
        [
         "33",
         "Lubomír Brož - Poslanec Parlamentu Čr A Radní Praha 5",
         "33",
         "Ano",
         "1"
        ],
        [
         "34",
         "Lubomír Brož - Poslanec Parlamentu Čr A Zastupitel Praha 5",
         "34",
         "Ano",
         "1"
        ],
        [
         "36",
         "Marie Pošarová - Spd",
         "36",
         "Svoboda A Přímá Demokracie",
         "1"
        ],
        [
         "37",
         "Martin Baxa",
         "37",
         "Občanská Demokratická Strana",
         "1"
        ],
        [
         "38",
         "Martin Benkovič, 1. Místostarosta Prahy 17 - Řepy",
         "38",
         "Ano",
         "1"
        ],
        [
         "39",
         "Martin Kuba",
         "39",
         "Občanská Demokratická Strana",
         "1"
        ],
        [
         "40",
         "Martin Kupka",
         "40",
         "Občanská Demokratická Strana",
         "1"
        ],
        [
         "41",
         "Matěj Ondřej Havel - Východočeský Poslanec",
         "41",
         "Top 09",
         "1"
        ],
        [
         "45",
         "Motoristé Sobě",
         "45",
         "Motoristé sobě",
         "1"
        ],
        [
         "50",
         "Nikola Bartůšek",
         "50",
         "Občanské hnutí Přísaha",
         "1"
        ],
        [
         "52",
         "Občanská Demokratická Strana",
         "52",
         "Občanská Demokratická Strana",
         "1"
        ],
        [
         "53",
         "Ods",
         "53",
         "Občanská Demokratická Strana",
         "1"
        ],
        [
         "54",
         "Ods - Občanská Demokratická Strana",
         "54",
         "Občanská Demokratická Strana",
         "1"
        ],
        [
         "55",
         "Oldřich Hájek",
         "55",
         "Ano",
         "1"
        ],
        [
         "56",
         "Ondrej Prokop",
         "56",
         "Ano",
         "1"
        ],
        [
         "57",
         "Pavel Staněk",
         "57",
         "Občanská Demokratická Strana",
         "1"
        ],
        [
         "58",
         "Pavla Pivoňka Vaňková Stan",
         "58",
         "Starostové A Nezávislí",
         "1"
        ],
        [
         "60",
         "Přísaha - Občanské Hnutí Roberta Šlachty",
         "60",
         "Občanské hnutí Přísaha",
         "1"
        ],
        [
         "61",
         "Radim F. Holeček",
         "61",
         "Ano",
         "1"
        ],
        [
         "62",
         "Radomír Nepil - Místostarosta Osmičky",
         "62",
         "Ano",
         "1"
        ],
        [
         "65",
         "Robert Teleky",
         "65",
         "Kdu-Čsl",
         "1"
        ],
        [
         "66",
         "Samuel Zabolotný",
         "66",
         "Ano",
         "1"
        ],
        [
         "69",
         "Sociální Demokracie",
         "69",
         "Sociální Demokracie",
         "1"
        ],
        [
         "70",
         "Stan",
         "70",
         "Starostové A Nezávislí",
         "1"
        ],
        [
         "71",
         "Starostové A Nezávislí",
         "71",
         "Starostové A Nezávislí",
         "1"
        ],
        [
         "72",
         "Starostové A Nezávislí • Stan",
         "72",
         "Starostové A Nezávislí",
         "1"
        ],
        [
         "73",
         "Svoboda A Přímá Demokracie",
         "73",
         "Svoboda A Přímá Demokracie",
         "1"
        ],
        [
         "74",
         "Svoboda A Přímá Demokracie (Spd)",
         "74",
         "Svoboda A Přímá Demokracie",
         "1"
        ],
        [
         "77",
         "Tom Philipp",
         "77",
         "Kdu-Čsl",
         "1"
        ],
        [
         "78",
         "Tomáš Zdechovský",
         "78",
         "Kdu-Čsl",
         "1"
        ],
        [
         "79",
         "Top 09",
         "79",
         "Top 09",
         "1"
        ],
        [
         "81",
         "Václav Pláteník",
         "81",
         "Kdu-Čsl",
         "1"
        ],
        [
         "82",
         "Vítězslav Schrek",
         "82",
         "Občanská Demokratická Strana",
         "1"
        ],
        [
         "84",
         "Zdeněk Hraba - Senátor",
         "84",
         "Starostové A Nezávislí",
         "1"
        ],
        [
         "87",
         "Česká Pirátská Strana",
         "87",
         "Česká Pirátská Strana",
         "1"
        ],
        [
         "88",
         "Česká Pirátská Strana - Praha",
         "88",
         "Česká Pirátská Strana",
         "1"
        ]
       ],
       "shape": {
        "columns": 4,
        "rows": 55
       }
      },
      "text/html": [
       "<div>\n",
       "<style scoped>\n",
       "    .dataframe tbody tr th:only-of-type {\n",
       "        vertical-align: middle;\n",
       "    }\n",
       "\n",
       "    .dataframe tbody tr th {\n",
       "        vertical-align: top;\n",
       "    }\n",
       "\n",
       "    .dataframe thead th {\n",
       "        text-align: right;\n",
       "    }\n",
       "</style>\n",
       "<table border=\"1\" class=\"dataframe\">\n",
       "  <thead>\n",
       "    <tr style=\"text-align: right;\">\n",
       "      <th></th>\n",
       "      <th>Bylines</th>\n",
       "      <th>Bylines_key</th>\n",
       "      <th>Bylines_grp</th>\n",
       "      <th>is_political</th>\n",
       "    </tr>\n",
       "  </thead>\n",
       "  <tbody>\n",
       "    <tr>\n",
       "      <th>2</th>\n",
       "      <td>Andrej Babiš</td>\n",
       "      <td>2</td>\n",
       "      <td>Ano</td>\n",
       "      <td>1</td>\n",
       "    </tr>\n",
       "    <tr>\n",
       "      <th>3</th>\n",
       "      <td>Ano</td>\n",
       "      <td>3</td>\n",
       "      <td>Ano</td>\n",
       "      <td>1</td>\n",
       "    </tr>\n",
       "    <tr>\n",
       "      <th>4</th>\n",
       "      <td>Ano 2011</td>\n",
       "      <td>4</td>\n",
       "      <td>Ano</td>\n",
       "      <td>1</td>\n",
       "    </tr>\n",
       "    <tr>\n",
       "      <th>5</th>\n",
       "      <td>Berenika Peštová-Poslankyně</td>\n",
       "      <td>5</td>\n",
       "      <td>Ano</td>\n",
       "      <td>1</td>\n",
       "    </tr>\n",
       "    <tr>\n",
       "      <th>8</th>\n",
       "      <td>Daniel Kůs - Radní Plzně</td>\n",
       "      <td>8</td>\n",
       "      <td>Česká Pirátská Strana</td>\n",
       "      <td>1</td>\n",
       "    </tr>\n",
       "    <tr>\n",
       "      <th>9</th>\n",
       "      <td>David Surý - Tvor Komunální</td>\n",
       "      <td>9</td>\n",
       "      <td>Kdu-Čsl</td>\n",
       "      <td>1</td>\n",
       "    </tr>\n",
       "    <tr>\n",
       "      <th>22</th>\n",
       "      <td>Jakub Horák</td>\n",
       "      <td>22</td>\n",
       "      <td>Česká Pirátská Strana</td>\n",
       "      <td>1</td>\n",
       "    </tr>\n",
       "    <tr>\n",
       "      <th>23</th>\n",
       "      <td>Jana Hanzlíková - Poslankyně</td>\n",
       "      <td>23</td>\n",
       "      <td>Ano</td>\n",
       "      <td>1</td>\n",
       "    </tr>\n",
       "    <tr>\n",
       "      <th>24</th>\n",
       "      <td>Jana Maláčová</td>\n",
       "      <td>24</td>\n",
       "      <td>Sociální Demokracie</td>\n",
       "      <td>1</td>\n",
       "    </tr>\n",
       "    <tr>\n",
       "      <th>26</th>\n",
       "      <td>Kamal Farhan</td>\n",
       "      <td>26</td>\n",
       "      <td>Ano</td>\n",
       "      <td>1</td>\n",
       "    </tr>\n",
       "    <tr>\n",
       "      <th>28</th>\n",
       "      <td>Karel Smetana</td>\n",
       "      <td>28</td>\n",
       "      <td>Kdu-Čsl</td>\n",
       "      <td>1</td>\n",
       "    </tr>\n",
       "    <tr>\n",
       "      <th>29</th>\n",
       "      <td>Kdu-Čsl</td>\n",
       "      <td>29</td>\n",
       "      <td>Kdu-Čsl</td>\n",
       "      <td>1</td>\n",
       "    </tr>\n",
       "    <tr>\n",
       "      <th>30</th>\n",
       "      <td>Komunistická Strana Čech A Moravy</td>\n",
       "      <td>30</td>\n",
       "      <td>Komunistická Strana Čech A Moravy</td>\n",
       "      <td>1</td>\n",
       "    </tr>\n",
       "    <tr>\n",
       "      <th>32</th>\n",
       "      <td>Kužílková Lucie</td>\n",
       "      <td>32</td>\n",
       "      <td>Občanská Demokratická Strana</td>\n",
       "      <td>1</td>\n",
       "    </tr>\n",
       "    <tr>\n",
       "      <th>33</th>\n",
       "      <td>Lubomír Brož - Poslanec Parlamentu Čr A Radní ...</td>\n",
       "      <td>33</td>\n",
       "      <td>Ano</td>\n",
       "      <td>1</td>\n",
       "    </tr>\n",
       "    <tr>\n",
       "      <th>34</th>\n",
       "      <td>Lubomír Brož - Poslanec Parlamentu Čr A Zastup...</td>\n",
       "      <td>34</td>\n",
       "      <td>Ano</td>\n",
       "      <td>1</td>\n",
       "    </tr>\n",
       "    <tr>\n",
       "      <th>36</th>\n",
       "      <td>Marie Pošarová - Spd</td>\n",
       "      <td>36</td>\n",
       "      <td>Svoboda A Přímá Demokracie</td>\n",
       "      <td>1</td>\n",
       "    </tr>\n",
       "    <tr>\n",
       "      <th>37</th>\n",
       "      <td>Martin Baxa</td>\n",
       "      <td>37</td>\n",
       "      <td>Občanská Demokratická Strana</td>\n",
       "      <td>1</td>\n",
       "    </tr>\n",
       "    <tr>\n",
       "      <th>38</th>\n",
       "      <td>Martin Benkovič, 1. Místostarosta Prahy 17 - Řepy</td>\n",
       "      <td>38</td>\n",
       "      <td>Ano</td>\n",
       "      <td>1</td>\n",
       "    </tr>\n",
       "    <tr>\n",
       "      <th>39</th>\n",
       "      <td>Martin Kuba</td>\n",
       "      <td>39</td>\n",
       "      <td>Občanská Demokratická Strana</td>\n",
       "      <td>1</td>\n",
       "    </tr>\n",
       "    <tr>\n",
       "      <th>40</th>\n",
       "      <td>Martin Kupka</td>\n",
       "      <td>40</td>\n",
       "      <td>Občanská Demokratická Strana</td>\n",
       "      <td>1</td>\n",
       "    </tr>\n",
       "    <tr>\n",
       "      <th>41</th>\n",
       "      <td>Matěj Ondřej Havel - Východočeský Poslanec</td>\n",
       "      <td>41</td>\n",
       "      <td>Top 09</td>\n",
       "      <td>1</td>\n",
       "    </tr>\n",
       "    <tr>\n",
       "      <th>45</th>\n",
       "      <td>Motoristé Sobě</td>\n",
       "      <td>45</td>\n",
       "      <td>Motoristé sobě</td>\n",
       "      <td>1</td>\n",
       "    </tr>\n",
       "    <tr>\n",
       "      <th>50</th>\n",
       "      <td>Nikola Bartůšek</td>\n",
       "      <td>50</td>\n",
       "      <td>Občanské hnutí Přísaha</td>\n",
       "      <td>1</td>\n",
       "    </tr>\n",
       "    <tr>\n",
       "      <th>52</th>\n",
       "      <td>Občanská Demokratická Strana</td>\n",
       "      <td>52</td>\n",
       "      <td>Občanská Demokratická Strana</td>\n",
       "      <td>1</td>\n",
       "    </tr>\n",
       "    <tr>\n",
       "      <th>53</th>\n",
       "      <td>Ods</td>\n",
       "      <td>53</td>\n",
       "      <td>Občanská Demokratická Strana</td>\n",
       "      <td>1</td>\n",
       "    </tr>\n",
       "    <tr>\n",
       "      <th>54</th>\n",
       "      <td>Ods - Občanská Demokratická Strana</td>\n",
       "      <td>54</td>\n",
       "      <td>Občanská Demokratická Strana</td>\n",
       "      <td>1</td>\n",
       "    </tr>\n",
       "    <tr>\n",
       "      <th>55</th>\n",
       "      <td>Oldřich Hájek</td>\n",
       "      <td>55</td>\n",
       "      <td>Ano</td>\n",
       "      <td>1</td>\n",
       "    </tr>\n",
       "    <tr>\n",
       "      <th>56</th>\n",
       "      <td>Ondrej Prokop</td>\n",
       "      <td>56</td>\n",
       "      <td>Ano</td>\n",
       "      <td>1</td>\n",
       "    </tr>\n",
       "    <tr>\n",
       "      <th>57</th>\n",
       "      <td>Pavel Staněk</td>\n",
       "      <td>57</td>\n",
       "      <td>Občanská Demokratická Strana</td>\n",
       "      <td>1</td>\n",
       "    </tr>\n",
       "    <tr>\n",
       "      <th>58</th>\n",
       "      <td>Pavla Pivoňka Vaňková Stan</td>\n",
       "      <td>58</td>\n",
       "      <td>Starostové A Nezávislí</td>\n",
       "      <td>1</td>\n",
       "    </tr>\n",
       "    <tr>\n",
       "      <th>60</th>\n",
       "      <td>Přísaha - Občanské Hnutí Roberta Šlachty</td>\n",
       "      <td>60</td>\n",
       "      <td>Občanské hnutí Přísaha</td>\n",
       "      <td>1</td>\n",
       "    </tr>\n",
       "    <tr>\n",
       "      <th>61</th>\n",
       "      <td>Radim F. Holeček</td>\n",
       "      <td>61</td>\n",
       "      <td>Ano</td>\n",
       "      <td>1</td>\n",
       "    </tr>\n",
       "    <tr>\n",
       "      <th>62</th>\n",
       "      <td>Radomír Nepil - Místostarosta Osmičky</td>\n",
       "      <td>62</td>\n",
       "      <td>Ano</td>\n",
       "      <td>1</td>\n",
       "    </tr>\n",
       "    <tr>\n",
       "      <th>65</th>\n",
       "      <td>Robert Teleky</td>\n",
       "      <td>65</td>\n",
       "      <td>Kdu-Čsl</td>\n",
       "      <td>1</td>\n",
       "    </tr>\n",
       "    <tr>\n",
       "      <th>66</th>\n",
       "      <td>Samuel Zabolotný</td>\n",
       "      <td>66</td>\n",
       "      <td>Ano</td>\n",
       "      <td>1</td>\n",
       "    </tr>\n",
       "    <tr>\n",
       "      <th>69</th>\n",
       "      <td>Sociální Demokracie</td>\n",
       "      <td>69</td>\n",
       "      <td>Sociální Demokracie</td>\n",
       "      <td>1</td>\n",
       "    </tr>\n",
       "    <tr>\n",
       "      <th>70</th>\n",
       "      <td>Stan</td>\n",
       "      <td>70</td>\n",
       "      <td>Starostové A Nezávislí</td>\n",
       "      <td>1</td>\n",
       "    </tr>\n",
       "    <tr>\n",
       "      <th>71</th>\n",
       "      <td>Starostové A Nezávislí</td>\n",
       "      <td>71</td>\n",
       "      <td>Starostové A Nezávislí</td>\n",
       "      <td>1</td>\n",
       "    </tr>\n",
       "    <tr>\n",
       "      <th>72</th>\n",
       "      <td>Starostové A Nezávislí • Stan</td>\n",
       "      <td>72</td>\n",
       "      <td>Starostové A Nezávislí</td>\n",
       "      <td>1</td>\n",
       "    </tr>\n",
       "    <tr>\n",
       "      <th>73</th>\n",
       "      <td>Svoboda A Přímá Demokracie</td>\n",
       "      <td>73</td>\n",
       "      <td>Svoboda A Přímá Demokracie</td>\n",
       "      <td>1</td>\n",
       "    </tr>\n",
       "    <tr>\n",
       "      <th>74</th>\n",
       "      <td>Svoboda A Přímá Demokracie (Spd)</td>\n",
       "      <td>74</td>\n",
       "      <td>Svoboda A Přímá Demokracie</td>\n",
       "      <td>1</td>\n",
       "    </tr>\n",
       "    <tr>\n",
       "      <th>77</th>\n",
       "      <td>Tom Philipp</td>\n",
       "      <td>77</td>\n",
       "      <td>Kdu-Čsl</td>\n",
       "      <td>1</td>\n",
       "    </tr>\n",
       "    <tr>\n",
       "      <th>78</th>\n",
       "      <td>Tomáš Zdechovský</td>\n",
       "      <td>78</td>\n",
       "      <td>Kdu-Čsl</td>\n",
       "      <td>1</td>\n",
       "    </tr>\n",
       "    <tr>\n",
       "      <th>79</th>\n",
       "      <td>Top 09</td>\n",
       "      <td>79</td>\n",
       "      <td>Top 09</td>\n",
       "      <td>1</td>\n",
       "    </tr>\n",
       "    <tr>\n",
       "      <th>81</th>\n",
       "      <td>Václav Pláteník</td>\n",
       "      <td>81</td>\n",
       "      <td>Kdu-Čsl</td>\n",
       "      <td>1</td>\n",
       "    </tr>\n",
       "    <tr>\n",
       "      <th>82</th>\n",
       "      <td>Vítězslav Schrek</td>\n",
       "      <td>82</td>\n",
       "      <td>Občanská Demokratická Strana</td>\n",
       "      <td>1</td>\n",
       "    </tr>\n",
       "    <tr>\n",
       "      <th>84</th>\n",
       "      <td>Zdeněk Hraba - Senátor</td>\n",
       "      <td>84</td>\n",
       "      <td>Starostové A Nezávislí</td>\n",
       "      <td>1</td>\n",
       "    </tr>\n",
       "    <tr>\n",
       "      <th>87</th>\n",
       "      <td>Česká Pirátská Strana</td>\n",
       "      <td>87</td>\n",
       "      <td>Česká Pirátská Strana</td>\n",
       "      <td>1</td>\n",
       "    </tr>\n",
       "    <tr>\n",
       "      <th>88</th>\n",
       "      <td>Česká Pirátská Strana - Praha</td>\n",
       "      <td>88</td>\n",
       "      <td>Česká Pirátská Strana</td>\n",
       "      <td>1</td>\n",
       "    </tr>\n",
       "    <tr>\n",
       "      <th>93</th>\n",
       "      <td>Štěpán Slovák</td>\n",
       "      <td>93</td>\n",
       "      <td>Občanská Demokratická Strana</td>\n",
       "      <td>1</td>\n",
       "    </tr>\n",
       "    <tr>\n",
       "      <th>94</th>\n",
       "      <td>Bold News</td>\n",
       "      <td>94</td>\n",
       "      <td>Ano</td>\n",
       "      <td>1</td>\n",
       "    </tr>\n",
       "    <tr>\n",
       "      <th>95</th>\n",
       "      <td>Oldřich Hájek - Senátor</td>\n",
       "      <td>94</td>\n",
       "      <td>Ano</td>\n",
       "      <td>1</td>\n",
       "    </tr>\n",
       "    <tr>\n",
       "      <th>96</th>\n",
       "      <td>Jana Bobošíková</td>\n",
       "      <td>95</td>\n",
       "      <td>Komunistická Strana Čech A Moravy</td>\n",
       "      <td>1</td>\n",
       "    </tr>\n",
       "    <tr>\n",
       "      <th>97</th>\n",
       "      <td>Zdeněk Kettner - Spd</td>\n",
       "      <td>96</td>\n",
       "      <td>Svoboda A Přímá Demokracie</td>\n",
       "      <td>1</td>\n",
       "    </tr>\n",
       "  </tbody>\n",
       "</table>\n",
       "</div>"
      ],
      "text/plain": [
       "                                              Bylines  Bylines_key  \\\n",
       "2                                        Andrej Babiš            2   \n",
       "3                                                 Ano            3   \n",
       "4                                            Ano 2011            4   \n",
       "5                         Berenika Peštová-Poslankyně            5   \n",
       "8                            Daniel Kůs - Radní Plzně            8   \n",
       "9                         David Surý - Tvor Komunální            9   \n",
       "22                                        Jakub Horák           22   \n",
       "23                       Jana Hanzlíková - Poslankyně           23   \n",
       "24                                      Jana Maláčová           24   \n",
       "26                                       Kamal Farhan           26   \n",
       "28                                      Karel Smetana           28   \n",
       "29                                            Kdu-Čsl           29   \n",
       "30                  Komunistická Strana Čech A Moravy           30   \n",
       "32                                    Kužílková Lucie           32   \n",
       "33  Lubomír Brož - Poslanec Parlamentu Čr A Radní ...           33   \n",
       "34  Lubomír Brož - Poslanec Parlamentu Čr A Zastup...           34   \n",
       "36                               Marie Pošarová - Spd           36   \n",
       "37                                        Martin Baxa           37   \n",
       "38  Martin Benkovič, 1. Místostarosta Prahy 17 - Řepy           38   \n",
       "39                                        Martin Kuba           39   \n",
       "40                                       Martin Kupka           40   \n",
       "41         Matěj Ondřej Havel - Východočeský Poslanec           41   \n",
       "45                                     Motoristé Sobě           45   \n",
       "50                                    Nikola Bartůšek           50   \n",
       "52                       Občanská Demokratická Strana           52   \n",
       "53                                                Ods           53   \n",
       "54                 Ods - Občanská Demokratická Strana           54   \n",
       "55                                      Oldřich Hájek           55   \n",
       "56                                      Ondrej Prokop           56   \n",
       "57                                       Pavel Staněk           57   \n",
       "58                         Pavla Pivoňka Vaňková Stan           58   \n",
       "60           Přísaha - Občanské Hnutí Roberta Šlachty           60   \n",
       "61                                   Radim F. Holeček           61   \n",
       "62              Radomír Nepil - Místostarosta Osmičky           62   \n",
       "65                                      Robert Teleky           65   \n",
       "66                                   Samuel Zabolotný           66   \n",
       "69                                Sociální Demokracie           69   \n",
       "70                                               Stan           70   \n",
       "71                             Starostové A Nezávislí           71   \n",
       "72                      Starostové A Nezávislí • Stan           72   \n",
       "73                         Svoboda A Přímá Demokracie           73   \n",
       "74                   Svoboda A Přímá Demokracie (Spd)           74   \n",
       "77                                        Tom Philipp           77   \n",
       "78                                   Tomáš Zdechovský           78   \n",
       "79                                             Top 09           79   \n",
       "81                                    Václav Pláteník           81   \n",
       "82                                   Vítězslav Schrek           82   \n",
       "84                             Zdeněk Hraba - Senátor           84   \n",
       "87                              Česká Pirátská Strana           87   \n",
       "88                      Česká Pirátská Strana - Praha           88   \n",
       "93                                      Štěpán Slovák           93   \n",
       "94                                          Bold News           94   \n",
       "95                            Oldřich Hájek - Senátor           94   \n",
       "96                                    Jana Bobošíková           95   \n",
       "97                               Zdeněk Kettner - Spd           96   \n",
       "\n",
       "                          Bylines_grp  is_political  \n",
       "2                                 Ano             1  \n",
       "3                                 Ano             1  \n",
       "4                                 Ano             1  \n",
       "5                                 Ano             1  \n",
       "8               Česká Pirátská Strana             1  \n",
       "9                             Kdu-Čsl             1  \n",
       "22              Česká Pirátská Strana             1  \n",
       "23                                Ano             1  \n",
       "24                Sociální Demokracie             1  \n",
       "26                                Ano             1  \n",
       "28                            Kdu-Čsl             1  \n",
       "29                            Kdu-Čsl             1  \n",
       "30  Komunistická Strana Čech A Moravy             1  \n",
       "32       Občanská Demokratická Strana             1  \n",
       "33                                Ano             1  \n",
       "34                                Ano             1  \n",
       "36         Svoboda A Přímá Demokracie             1  \n",
       "37       Občanská Demokratická Strana             1  \n",
       "38                                Ano             1  \n",
       "39       Občanská Demokratická Strana             1  \n",
       "40       Občanská Demokratická Strana             1  \n",
       "41                             Top 09             1  \n",
       "45                     Motoristé sobě             1  \n",
       "50             Občanské hnutí Přísaha             1  \n",
       "52       Občanská Demokratická Strana             1  \n",
       "53       Občanská Demokratická Strana             1  \n",
       "54       Občanská Demokratická Strana             1  \n",
       "55                                Ano             1  \n",
       "56                                Ano             1  \n",
       "57       Občanská Demokratická Strana             1  \n",
       "58             Starostové A Nezávislí             1  \n",
       "60             Občanské hnutí Přísaha             1  \n",
       "61                                Ano             1  \n",
       "62                                Ano             1  \n",
       "65                            Kdu-Čsl             1  \n",
       "66                                Ano             1  \n",
       "69                Sociální Demokracie             1  \n",
       "70             Starostové A Nezávislí             1  \n",
       "71             Starostové A Nezávislí             1  \n",
       "72             Starostové A Nezávislí             1  \n",
       "73         Svoboda A Přímá Demokracie             1  \n",
       "74         Svoboda A Přímá Demokracie             1  \n",
       "77                            Kdu-Čsl             1  \n",
       "78                            Kdu-Čsl             1  \n",
       "79                             Top 09             1  \n",
       "81                            Kdu-Čsl             1  \n",
       "82       Občanská Demokratická Strana             1  \n",
       "84             Starostové A Nezávislí             1  \n",
       "87              Česká Pirátská Strana             1  \n",
       "88              Česká Pirátská Strana             1  \n",
       "93       Občanská Demokratická Strana             1  \n",
       "94                                Ano             1  \n",
       "95                                Ano             1  \n",
       "96  Komunistická Strana Čech A Moravy             1  \n",
       "97         Svoboda A Přímá Demokracie             1  "
      ]
     },
     "execution_count": 12,
     "metadata": {},
     "output_type": "execute_result"
    }
   ],
   "source": [
    "df = pd.read_csv(\"C:\\\\Users\\\\jirip\\\\Documents\\\\Developer\\\\python\\\\political_ads\\\\bylines_grp.csv\")\n",
    "df = df[df['is_political'] == 1]\n",
    "df"
   ]
  }
 ],
 "metadata": {
  "kernelspec": {
   "display_name": "Python 3",
   "language": "python",
   "name": "python3"
  },
  "language_info": {
   "codemirror_mode": {
    "name": "ipython",
    "version": 3
   },
   "file_extension": ".py",
   "mimetype": "text/x-python",
   "name": "python",
   "nbconvert_exporter": "python",
   "pygments_lexer": "ipython3",
   "version": "3.12.2"
  }
 },
 "nbformat": 4,
 "nbformat_minor": 5
}
