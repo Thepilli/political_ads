{
 "cells": [
  {
   "cell_type": "code",
   "execution_count": 2,
   "metadata": {},
   "outputs": [],
   "source": [
    "import pandas as pd\n",
    "import glob\n",
    "\n",
    "all_csv = glob.glob(\"/Users/zackrawr/Developer/Python_WS/zip/advertisers/*.csv\")\n",
    "df_list = [pd.read_csv(file,encoding='utf-8') for file in all_csv]\n",
    "all_df = pd.concat(df_list, ignore_index=True)\n",
    "merged_df = all_df.drop(columns=['Page name', 'Disclaimer'])\n",
    "merged_df = merged_df[merged_df['Amount spent (CZK)'] != '≤100']\n",
    "merged_df['Amount spent (CZK)'] = merged_df['Amount spent (CZK)'].astype(int)\n"
   ]
  },
  {
   "cell_type": "code",
   "execution_count": 3,
   "metadata": {},
   "outputs": [],
   "source": [
    "result_df = merged_df.groupby('Page ID').agg({\n",
    "    'Amount spent (CZK)': 'sum',\n",
    "    'Number of ads in Library': 'sum',\n",
    "    'Page ID': 'count' \n",
    "})"
   ]
  },
  {
   "cell_type": "code",
   "execution_count": 4,
   "metadata": {},
   "outputs": [],
   "source": [
    "result_df = result_df.rename(columns={'Page ID': 'Number of days'})"
   ]
  },
  {
   "cell_type": "code",
   "execution_count": 5,
   "metadata": {},
   "outputs": [],
   "source": [
    "result_df['Amount spent per day (CZK)'] = result_df['Amount spent (CZK)'] / result_df['Number of days']\n",
    "result_df = result_df[result_df['Number of days'] > 20]\n",
    "result_df.to_csv('top500.csv', encoding='utf-8')"
   ]
  },
  {
   "cell_type": "code",
   "execution_count": 33,
   "metadata": {},
   "outputs": [],
   "source": [
    "import pandas as pd\n",
    "import glob\n",
    "\n",
    "all_csv = glob.glob(\"/Users/zackrawr/Developer/Python_WS/zip/advertisers/*.csv\")\n",
    "df_list = [pd.read_csv(file,encoding='utf-8') for file in all_csv]\n",
    "all_df = pd.concat(df_list, ignore_index=True)\n",
    "merged_df = all_df.drop(columns=['Page name', 'Disclaimer'])\n",
    "merged_df = merged_df[merged_df['Amount spent (CZK)'] != '≤100']\n",
    "merged_df['Amount spent (CZK)'] = merged_df['Amount spent (CZK)'].astype(int)\n",
    "result_df = merged_df.groupby('Page ID').agg({\n",
    "    'Amount spent (CZK)': 'sum',\n",
    "    'Number of ads in Library': 'sum',\n",
    "    'Page ID': 'count' \n",
    "})\n",
    "result_df = result_df.rename(columns={'Page ID': 'Number of days'})\n",
    "result_df['Amount spent per day (CZK)'] = (result_df['Amount spent (CZK)'] / result_df['Number of days']).round()\n",
    "top100_amount_spent = result_df.nlargest(50, 'Amount spent (CZK)')\n",
    "top100_ads_library = result_df.nlargest(50, 'Number of ads in Library')\n",
    "top100_amount_per_day = result_df.nlargest(50, 'Amount spent per day (CZK)')\n",
    "top100_amount_spent_set = top100_amount_spent.index.tolist()\n",
    "top100_ads_library_set = top100_ads_library.index.tolist()\n",
    "top100_amount_per_day_set = top100_amount_per_day.index.tolist()"
   ]
  },
  {
   "cell_type": "code",
   "execution_count": 35,
   "metadata": {},
   "outputs": [
    {
     "name": "stdout",
     "output_type": "stream",
     "text": [
      "108\n",
      "[360947680436739, 251656685576, 179497582061065, 340794862444046, 102845669064210, 90002267161, 462447430809625, 1817941161841179, 107321514597921, 1416733788557863, 107166057484330, 100505211433010, 284944781875, 849315472073267, 138479367229, 134019826669125, 1437561026464333, 551976351670874, 107898832590939, 290464181002849, 487445514669670, 307710452690539, 282765711734893, 101591979523190, 290508037768313, 159935454034044, 133523377350276, 152744724577432, 157741540937883, 424114981002397, 211685455639198, 297565827101858, 1956144064659620, 496346277123749, 252723251252904, 163186777045684, 37925761205, 1571432816412854, 100793736209591, 1422617594662590, 55876739776, 251342108296899, 141366725876424, 944792105610443, 415472211798220, 341564839045337, 295889117124834, 119598071962341, 376917739059943, 105692521913578, 108342850697974, 165004157332215, 1469427909957890, 100859585350918, 122074554119, 130038285069, 320144481956623, 124152241443, 107736952362788, 1401321553476901, 183287971525413, 136729466436390, 394381447093545, 733410133337387, 116445271562547, 106767797724979, 30575632699, 100558309347647, 1691199151153995, 494377167258444, 103915899000151, 648648261893473, 178362315106, 597980334012769, 728495140691300, 147547541961576, 470593056405865, 711658465662315, 100723801653101, 114840783409005, 210778132327279, 197010357446014, 1681478228766601, 176688316811, 55408246161, 1434319750128022, 278451599256, 490930117644709, 1455431764712359, 102338366221744, 337703022758334, 214827221987263, 39371299263, 344542362982337, 1460486154172874, 109323929038, 60516116431, 103430204491217, 1104866262972886, 278117815576023, 34825122262, 1934837773438430, 1477535869227488, 278212515809, 120343698070515, 109961708643319, 218764824871418, 43855944703]\n"
     ]
    }
   ],
   "source": [
    "# Merge all three lists and remove duplicates\n",
    "merged_list = list(set(top100_amount_spent_set + top100_ads_library_set + top100_amount_per_day_set))\n",
    "print(len(merged_list))\n",
    "print(merged_list)"
   ]
  },
  {
   "cell_type": "code",
   "execution_count": null,
   "metadata": {},
   "outputs": [],
   "source": [
    "# Function to format floats without scientific notation\n",
    "def format_float(x):\n",
    "    return '{:.0f}'.format(x)\n",
    "\n",
    "# Set the display option to use the format function\n",
    "pd.set_option('display.float_format', format_float)\n",
    "\n",
    "# Now print the DataFrame\n",
    "print(result_df.describe())"
   ]
  }
 ],
 "metadata": {
  "kernelspec": {
   "display_name": "Python 3",
   "language": "python",
   "name": "python3"
  },
  "language_info": {
   "codemirror_mode": {
    "name": "ipython",
    "version": 3
   },
   "file_extension": ".py",
   "mimetype": "text/x-python",
   "name": "python",
   "nbconvert_exporter": "python",
   "pygments_lexer": "ipython3",
   "version": "3.13.0"
  }
 },
 "nbformat": 4,
 "nbformat_minor": 2
}
