{
 "cells": [
  {
   "cell_type": "code",
   "execution_count": 2,
   "metadata": {},
   "outputs": [],
   "source": [
    "import pandas as pd\n",
    "import glob\n",
    "\n",
    "all_csv = glob.glob(\"/Users/zackrawr/Developer/Python_WS/zip/advertisers/*.csv\")\n",
    "df_list = [pd.read_csv(file,encoding='utf-8') for file in all_csv]\n",
    "all_df = pd.concat(df_list, ignore_index=True)\n",
    "merged_df = all_df.drop(columns=['Page name', 'Disclaimer'])\n",
    "merged_df = merged_df[merged_df['Amount spent (CZK)'] != '≤100']\n",
    "merged_df['Amount spent (CZK)'] = merged_df['Amount spent (CZK)'].astype(int)\n"
   ]
  },
  {
   "cell_type": "code",
   "execution_count": 3,
   "metadata": {},
   "outputs": [],
   "source": [
    "result_df = merged_df.groupby('Page ID').agg({\n",
    "    'Amount spent (CZK)': 'sum',\n",
    "    'Number of ads in Library': 'sum',\n",
    "    'Page ID': 'count' \n",
    "})"
   ]
  },
  {
   "cell_type": "code",
   "execution_count": 4,
   "metadata": {},
   "outputs": [],
   "source": [
    "result_df = result_df.rename(columns={'Page ID': 'Number of days'})"
   ]
  },
  {
   "cell_type": "code",
   "execution_count": 5,
   "metadata": {},
   "outputs": [],
   "source": [
    "# result_df['Amount spent per day (CZK)'] = result_df['Amount spent (CZK)'] / result_df['Number of days']\n",
    "result_df = result_df[result_df['Number of days'] > 20]\n",
    "result_df.to_csv('top500.csv', encoding='utf-8')"
   ]
  }
 ],
 "metadata": {
  "kernelspec": {
   "display_name": "Python 3",
   "language": "python",
   "name": "python3"
  },
  "language_info": {
   "codemirror_mode": {
    "name": "ipython",
    "version": 3
   },
   "file_extension": ".py",
   "mimetype": "text/x-python",
   "name": "python",
   "nbconvert_exporter": "python",
   "pygments_lexer": "ipython3",
   "version": "3.13.0"
  }
 },
 "nbformat": 4,
 "nbformat_minor": 2
}
