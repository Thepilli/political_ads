{
  "cells": [
    {
      "cell_type": "code",
      "execution_count": 14,
      "metadata": {},
      "outputs": [],
      "source": [
        "# Import necessary libraries and load CSV files\n",
        "import pandas as pd\n",
        "import os\n",
        "base_dir = os.getcwd()\n",
        "\n",
        "# Load the first CSV file\n",
        "df_all = pd.read_csv(f'{base_dir}/CZ_lifelong_advertisers.csv', encoding='utf-8')\n",
        "df_all['Amount spent (CZK)'] = pd.to_numeric(df_all['Amount spent (CZK)'].str.replace('≤', ''), errors='coerce')\n",
        "df_90 = pd.read_csv(f'{base_dir}/CZ_last_90_days_advertisers.csv', encoding='utf-8')\n",
        "df_90['Amount spent (CZK)'] = pd.to_numeric(df_90['Amount spent (CZK)'].str.replace('≤', ''), errors='coerce')\n",
        "\n"
      ]
    },
    {
      "cell_type": "code",
      "execution_count": 15,
      "metadata": {},
      "outputs": [],
      "source": [
        "df_all = df_all[df_all['Disclaimer'] != 'These ads ran without a disclaimer']\n",
        "df_90 = df_90[df_90['Disclaimer'] != 'These ads ran without a disclaimer']"
      ]
    },
    {
      "cell_type": "code",
      "execution_count": 16,
      "metadata": {},
      "outputs": [],
      "source": [
        "# Group by 'Disclaimer' and sum 'Amount spent (CZK)', then sort\n",
        "df_all_bylines = df_all.groupby('Disclaimer')['Amount spent (CZK)'].sum().sort_values(ascending=False)\n",
        "df_90_bylines = df_90.groupby('Disclaimer')['Amount spent (CZK)'].sum().sort_values(ascending=False)\n",
        "\n"
      ]
    },
    {
      "cell_type": "code",
      "execution_count": 17,
      "metadata": {},
      "outputs": [],
      "source": [
        "# Get top 100 bylines from lifelong advertisers and bylines with amount spent >= 200 CZK in the last 90 days\n",
        "df_all_list = df_all_bylines.head(100).index.tolist()\n",
        "df_90_list = df_90_bylines[df_90_bylines >= 150].index.tolist()"
      ]
    },
    {
      "cell_type": "code",
      "execution_count": 18,
      "metadata": {},
      "outputs": [],
      "source": [
        "# Find common bylines between the two lists\n",
        "common_bylines = list(set(df_all_list) & set(df_90_list))\n"
      ]
    },
    {
      "cell_type": "code",
      "execution_count": 19,
      "metadata": {},
      "outputs": [
        {
          "name": "stdout",
          "output_type": "stream",
          "text": [
            "['Česká pirátská strana', 'EUROPEUM Institute for European Policy', 'FTV Prima', 'ANO', 'Naše zdravotnictví', 'Svoboda a přímá demokracie (SPD)', 'ČSOB', 'ODS', 'Lékaři bez hranic - Médecins Sans Frontières in Czech Republic, o. p. s.', 'Aliance pro budoucnost', 'STAN', 'Starostové a nezávislí • STAN', 'PRAHA SOBĚ', 'Člověk v tísni, o.p.s.', 'SH media, spol. s r.o.', 'Komunistická strana Čech a Moravy', 'Zdeněk Hraba - senátor', 'Ondrej Prokop', 'Ministerstvo práce a sociálních věcí', 'Tomáš Zdechovský', 'Milion Chvilek, z. s.', 'EU Social', 'EU Justice and Consumers', 'ODS - Občanská demokratická strana', 'Sociální demokracie', 'Amnesty International ČR', 'Občanská demokratická strana', 'Tipsport', 'Karel Janeček', 'Martin Kuba', 'Starostové a nezávislí', 'Svoboda zvířat Plzeň, z.s.', 'CARE Česká republika', 'Replastuj.cz', 'ANO 2011', 'Reportér magazín', 'Andrej Babiš', 'Člověk v tísni o.p.s.', 'DFMG', 'TOP 09', 'SEN 21', 'Kupředu do minulosti s.r.o.', 'Ministerstvo pro místní rozvoj ČR', 'Svoboda a přímá demokracie', 'Greenpeace Česká republika', 'STAROSTOVÉ A NEZÁVISLÍ', 'KDU-ČSL', 'Česká pirátská strana - Praha', 'XTV', 'Hnutí DUHA - Přátelé Země Česká republika', 'Zelení - Strana zelených', 'PŘÍSAHA - občanské hnutí Roberta Šlachty', 'Český rozhlas', 'CZECH NEWS CENTER a. s.', 'Oldřich Hájek', 'Transparency International ČR']\n"
          ]
        }
      ],
      "source": [
        "print(common_bylines)"
      ]
    }
  ],
  "metadata": {
    "kernelspec": {
      "display_name": "Python 3",
      "language": "python",
      "name": "python3"
    },
    "language_info": {
      "codemirror_mode": {
        "name": "ipython",
        "version": 3
      },
      "file_extension": ".py",
      "mimetype": "text/x-python",
      "name": "python",
      "nbconvert_exporter": "python",
      "pygments_lexer": "ipython3",
      "version": "3.13.0"
    }
  },
  "nbformat": 4,
  "nbformat_minor": 2
}
