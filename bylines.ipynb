{
 "cells": [
  {
   "cell_type": "code",
   "execution_count": 58,
   "metadata": {},
   "outputs": [],
   "source": [
    "# Import necessary libraries and load CSV files\n",
    "import pandas as pd\n",
    "import os\n",
    "base_dir = os.getcwd()\n",
    "\n",
    "# Load the first CSV file\n",
    "df_all = pd.read_csv(f'{base_dir}/CZ_lifelong_advertisers.csv', encoding='utf-8')\n",
    "df_all['Amount spent (CZK)'] = pd.to_numeric(df_all['Amount spent (CZK)'].str.replace('≤', ''), errors='coerce')\n",
    "df_90 = pd.read_csv(f'{base_dir}/CZ_last_90_days_advertisers.csv', encoding='utf-8')\n",
    "df_90['Amount spent (CZK)'] = pd.to_numeric(df_90['Amount spent (CZK)'].str.replace('≤', ''), errors='coerce')\n",
    "\n"
   ]
  },
  {
   "cell_type": "code",
   "execution_count": 59,
   "metadata": {},
   "outputs": [],
   "source": [
    "df_all = df_all[df_all['Disclaimer'] != 'These ads ran without a disclaimer']\n",
    "df_90 = df_90[df_90['Disclaimer'] != 'These ads ran without a disclaimer']"
   ]
  },
  {
   "cell_type": "code",
   "execution_count": 60,
   "metadata": {},
   "outputs": [],
   "source": [
    "# Group by 'Disclaimer' and sum 'Amount spent (CZK)', then sort\n",
    "df_all_bylines = df_all.groupby('Disclaimer')['Amount spent (CZK)'].sum().sort_values(ascending=False)\n",
    "df_90_bylines = df_90.groupby('Disclaimer')['Amount spent (CZK)'].sum().sort_values(ascending=False)\n",
    "\n"
   ]
  },
  {
   "cell_type": "code",
   "execution_count": 61,
   "metadata": {},
   "outputs": [],
   "source": [
    "# Get top 100 bylines from lifelong advertisers and bylines with amount spent >= 200 CZK in the last 90 days\n",
    "df_all_list = df_all_bylines.head(150).index.tolist()\n",
    "df_90_list = df_90_bylines[df_90_bylines >= 150].index.tolist()"
   ]
  },
  {
   "cell_type": "code",
   "execution_count": 62,
   "metadata": {},
   "outputs": [],
   "source": [
    "# Find common bylines between the two lists\n",
    "common_bylines = list(set(df_all_list) & set(df_90_list))\n"
   ]
  },
  {
   "cell_type": "code",
   "execution_count": null,
   "metadata": {},
   "outputs": [],
   "source": []
  }
 ],
 "metadata": {
  "kernelspec": {
   "display_name": "Python 3",
   "language": "python",
   "name": "python3"
  },
  "language_info": {
   "codemirror_mode": {
    "name": "ipython",
    "version": 3
   },
   "file_extension": ".py",
   "mimetype": "text/x-python",
   "name": "python",
   "nbconvert_exporter": "python",
   "pygments_lexer": "ipython3",
   "version": "3.13.0"
  }
 },
 "nbformat": 4,
 "nbformat_minor": 2
}
