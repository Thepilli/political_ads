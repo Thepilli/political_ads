{
 "cells": [
  {
   "cell_type": "code",
   "execution_count": null,
   "metadata": {},
   "outputs": [],
   "source": [
    "import pandas as pd\n",
    "\n",
    "# Replace 'file1.csv' and 'file2.csv' with your actual file paths\n",
    "df_all = pd.read_csv('FacebookAdLibraryReport_2025-01-05_CZ_lifelong_advertisers.csv')\n",
    "df_90 = pd.read_csv('FacebookAdLibraryReport_2025-01-05_CZ_last_90_days_advertisers.csv')\n",
    "\n",
    "# Display the first few rows of each DataFrame to verify\n",
    "print(df_all.head())\n",
    "print(df_90.head())"
   ]
  },
  {
   "cell_type": "code",
   "execution_count": null,
   "metadata": {},
   "outputs": [],
   "source": [
    "df_merged = df_90.merge(df_all, on='Page ID', suffixes=('_90', '_all'), how='left')\n",
    "print(df_merged.head())"
   ]
  },
  {
   "cell_type": "code",
   "execution_count": null,
   "metadata": {},
   "outputs": [],
   "source": [
    "# Convert 'Amount spent (CZK)' to numeric, forcing errors to NaN\n",
    "df_all['Amount spent (CZK)'] = pd.to_numeric(df_all['Amount spent (CZK)'].str.replace('≤', ''), errors='coerce')\n",
    "\n",
    "# Group by 'Page ID' and sum 'Amount spent (CZK)'\n",
    "df_all_sum = df_all.groupby('Page ID')['Amount spent (CZK)'].sum().reset_index().sort_values('Amount spent (CZK)', ascending=False)\n",
    "\n",
    "print(df_all_sum)"
   ]
  },
  {
   "cell_type": "code",
   "execution_count": null,
   "metadata": {},
   "outputs": [],
   "source": []
  },
  {
   "cell_type": "code",
   "execution_count": 2,
   "metadata": {},
   "outputs": [
    {
     "name": "stdout",
     "output_type": "stream",
     "text": [
      "The number of objects in the JSON file is: 1971\n"
     ]
    }
   ],
   "source": [
    "import json\n",
    "\n",
    "# Replace 'file.json' with your actual file path\n",
    "with open('C://Users//jirip//Documents//Developer//python//meta_ads_crawler//political_ads_delta//data_ANO.json', 'r',encoding='utf-8') as file:\n",
    "    data = json.load(file)\n",
    "\n",
    "# Count the number of objects in the JSON file\n",
    "object_count = len(data)\n",
    "print(f'The number of objects in the JSON file is: {object_count}')"
   ]
  },
  {
   "cell_type": "code",
   "execution_count": 8,
   "metadata": {},
   "outputs": [
    {
     "name": "stdout",
     "output_type": "stream",
     "text": [
      "The number of unique page_id values is: 35\n",
      "The unique page_id values are: ['Patrik Nacher', 'ANO, máme rádi Olomouc', 'Martin Hlaváček', 'ANO', 'Robert Stržínek', 'Ondřej Prokop', 'Andrea Brzobohatá do Senátu', 'Karel Havlíček', 'ANO - Zlínský kraj', 'Daniel Vodák', 'Radim Holiš I Hejtman Zlínského kraje', 'Klára Dostálová', 'Zuzana Ožanová - poslankyně', 'ANO, tohle je Rožnov', 'Jana Pastuchová', 'Tomáš Janča', 'Richard Vereš', 'Milan Brázdil', 'Jana Nagyová', 'ANO, tohle jsou Louny', 'Ladislav Okleštěk', 'Jana Mračková Vildumetzová', 'Tomáš Macura', 'Radim Holiš', 'Andrea Brzobohatá politička', 'Radek Vondráček', 'Andrej Babiš', 'Milan Brázdil do Senátu', 'Mirek Žbánek - primátor Olomouce', 'Dita Charanzová', 'Irena Michalcová, starostka Prahy 4', 'Jitka Volfová', 'Alena Schillerová', 'Jan Schiller - politik', 'Zuzana Schwarz Bařtipánová - starostka města Bílina']\n"
     ]
    }
   ],
   "source": [
    "# Extract all page_id values\n",
    "page_ids = [ad['page_name'] for ad in data]\n",
    "\n",
    "# Get unique page_id values\n",
    "unique_page_ids = set(page_ids)\n",
    "unique_page_ids = list(unique_page_ids)\n",
    "\n",
    "\n",
    "# Count unique page_id values\n",
    "unique_page_id_count = len(unique_page_ids)\n",
    "\n",
    "print(f'The number of unique page_id values is: {unique_page_id_count}')\n",
    "print(f'The unique page_id values are: {unique_page_ids}')"
   ]
  },
  {
   "cell_type": "code",
   "execution_count": 11,
   "metadata": {},
   "outputs": [
    {
     "name": "stdout",
     "output_type": "stream",
     "text": [
      "The number of unique region values is: 163\n",
      "The unique region values are: ['Western Cape', 'Cairo Governorate', 'Ilfov County', 'Alsace', 'North Denmark Region', 'Călărași County', 'Brașov County', 'Kuyavian-Pomeranian Voivodeship', 'Nghệ An Province', 'Medenine Governorate', 'Prague', 'Kotayk Province', 'Savannakhet Province', 'Ústí nad Labem Region', 'Łódź Voivodeship', 'Masovian Voivodeship', 'Orhei District', 'Alba County', 'Lombardia', 'Lesser Poland Voivodeship', 'Andalusia', 'Zala County', 'Semigallia', 'Hradec Králové Region', 'Lublin Voivodeship', 'Võru County', 'Hunedoara County', 'Podlaskie Voivodeship', 'Trenčín Region', 'North Sinai Governorate', 'Lower Silesian Voivodeship', 'Gomel Region', 'Moravian-Silesian Region', 'Bali', 'Galați County', 'South Moravian Region', 'Banská Bystrica Region', 'Pest County', 'Central Denmark Region', 'Sicilia', 'Presov', 'Bayern', 'Iași County', 'Ontario', 'Mureș County', 'Veneto', 'Centre', 'Baden-Württemberg', 'Ras al-Khaimah', 'Tamaulipas', 'Şanlıurfa Province', 'Istanbul Province', 'Capital Region of Denmark', \"Provence-Alpes-Côte d'Azur\", 'Vienna', 'Nitra Region', 'West Java', 'Bratislava Region', 'Karlovy Vary Region', 'Mehedinți County', 'Istria County', 'Harghita County', 'Haute-Normandie', 'Lower Austria', 'Argeș County', 'Greater Poland Voivodeship', 'Kiev Oblast', 'Lviv Oblast', 'Constanța County', 'Noonu Atoll', 'Timiș County', 'Trnava Region', 'Antalya Province', 'Split-Dalmatia County', 'South Bohemian Region', 'Tel Aviv', 'Islas Canarias', 'Piedmont', 'Silesian Voivodeship', 'Comunidad de Madrid', 'Opole Voivodeship', 'Diyala Governorate', 'East Java', 'Prahova County', 'Świętokrzyskie Voivodeship', 'Bacău County', 'Pathum Thani', 'Campania', 'Podkarpackie Voivodeship', 'Hordaland', 'Western Australia', 'Central Bohemian Region', 'Mura Statistical Region', 'Crete', 'Warmian-Masurian Voivodeship', 'Blekinge County', 'Connecticut', 'Tuscany', 'Dnipropetrovsk Oblast', 'Emilia-Romagna', 'Košice Region', 'Red Sea Governorate', 'Monufia Governorate', 'Buenos Aires', 'Hamburg', 'Sachsen', 'Ashanti Region', 'Basse-Normandie', 'Tivat Municipality', 'Gorj County', 'Pardubice Region', 'Flemish Region', 'Scotland', 'Alif Alif Atoll', 'Vâlcea County', 'Minsk Region', 'Dubai', 'Sibiu County', 'Dolj County', 'Chișinău', 'Sør-Trøndelag', 'Karaganda Region', 'Carinthia Statistical Region', 'Olt County', 'Niedersachsen', 'Nordrhein-Westfalen', 'Cundinamarca', 'New South Wales', 'Maramureș County', 'Zeeland', 'Unknown', 'Pomeranian Voivodeship', 'Rheinland-Pfalz', 'Zakarpattia Oblast', 'Bihor County', 'Hessen', 'Gauteng', 'Zuid-Holland', 'Bucharest', 'Franche-Comté', 'Vysočina Region', 'Ivano-Frankivsk Oblast', 'Tavastia Proper', 'Zlín Region', 'Liberec Region', 'Canton of St. Gallen', 'Exuma', 'Cataluña', 'Plzeň Region', 'Comunidad Valenciana', 'West Pomeranian Voivodeship', 'Sardinia', 'Brăila County', 'Lubusz Voivodeship', 'Kerala', 'Lazio', 'Vientiane Prefecture', 'England', 'Limburg', 'Giurgiu County', 'Budapest', 'Olomouc Region', 'Žilina Region']\n"
     ]
    }
   ],
   "source": [
    "# Extract all region values\n",
    "regions = [region['region'] for ad in data if ad.get('delivery_by_region') for region in ad['delivery_by_region']]\n",
    "\n",
    "# Get unique region values\n",
    "unique_regions = set(regions)\n",
    "unique_regions = list(unique_regions)\n",
    "\n",
    "# Count unique region values\n",
    "unique_region_count = len(unique_regions)\n",
    "\n",
    "print(f'The number of unique region values is: {unique_region_count}')\n",
    "print(f'The unique region values are: {unique_regions}')"
   ]
  }
 ],
 "metadata": {
  "kernelspec": {
   "display_name": "Python 3",
   "language": "python",
   "name": "python3"
  },
  "language_info": {
   "codemirror_mode": {
    "name": "ipython",
    "version": 3
   },
   "file_extension": ".py",
   "mimetype": "text/x-python",
   "name": "python",
   "nbconvert_exporter": "python",
   "pygments_lexer": "ipython3",
   "version": "3.12.2"
  },
  "orig_nbformat": 4
 },
 "nbformat": 4,
 "nbformat_minor": 2
}
