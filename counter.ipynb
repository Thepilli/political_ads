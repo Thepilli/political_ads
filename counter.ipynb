{
 "cells": [
  {
   "cell_type": "code",
   "execution_count": null,
   "metadata": {},
   "outputs": [],
   "source": [
    "import pandas as pd\n",
    "\n",
    "# Replace 'file1.csv' and 'file2.csv' with your actual file paths\n",
    "df_all = pd.read_csv('FacebookAdLibraryReport_2025-01-05_CZ_lifelong_advertisers.csv')\n",
    "df_90 = pd.read_csv('FacebookAdLibraryReport_2025-01-05_CZ_last_90_days_advertisers.csv')\n",
    "\n",
    "# Display the first few rows of each DataFrame to verify\n",
    "print(df_all.head())\n",
    "print(df_90.head())"
   ]
  },
  {
   "cell_type": "code",
   "execution_count": null,
   "metadata": {},
   "outputs": [],
   "source": [
    "df_merged = df_90.merge(df_all, on='Page ID', suffixes=('_90', '_all'), how='left')\n",
    "print(df_merged.head())"
   ]
  },
  {
   "cell_type": "code",
   "execution_count": null,
   "metadata": {},
   "outputs": [],
   "source": [
    "# Convert 'Amount spent (CZK)' to numeric, forcing errors to NaN\n",
    "df_all['Amount spent (CZK)'] = pd.to_numeric(df_all['Amount spent (CZK)'].str.replace('≤', ''), errors='coerce')\n",
    "\n",
    "# Group by 'Page ID' and sum 'Amount spent (CZK)'\n",
    "df_all_sum = df_all.groupby('Page ID')['Amount spent (CZK)'].sum().reset_index().sort_values('Amount spent (CZK)', ascending=False)\n",
    "\n",
    "print(df_all_sum)"
   ]
  },
  {
   "cell_type": "markdown",
   "metadata": {},
   "source": []
  },
  {
   "cell_type": "code",
   "execution_count": 2,
   "metadata": {},
   "outputs": [
    {
     "name": "stdout",
     "output_type": "stream",
     "text": [
      "The number of objects in the JSON file is: 89500\n"
     ]
    }
   ],
   "source": [
    "import json\n",
    "import os\n",
    "base_dir = os.getcwd()\n",
    "  # Directory to save the JSON files\n",
    "output_dir = os.path.join(base_dir, \"bylines_ads\")\n",
    "file = 'data_all.json'\n",
    "\n",
    "# Replace 'file.json' with your actual file path\n",
    "with open(os.path.join(output_dir,file), 'r',encoding='utf-8') as file:\n",
    "    data = json.load(file)\n",
    "\n",
    "# Count the number of objects in the JSON file\n",
    "object_count = len(data)\n",
    "print(f'The number of objects in the JSON file is: {object_count}')"
   ]
  },
  {
   "cell_type": "code",
   "execution_count": 7,
   "metadata": {},
   "outputs": [
    {
     "name": "stdout",
     "output_type": "stream",
     "text": [
      "The number of unique page_id values is: 5\n",
      "The unique page_id values are: ['Karel Havlíček', 'Patrik Nacher', 'Richard Vereš', 'Jana Mračková Vildumetzová', 'Alena Schillerová']\n"
     ]
    }
   ],
   "source": [
    "# Extract all page_id values\n",
    "page_ids = [ad['page_name'] for ad in data]\n",
    "\n",
    "# Get unique page_id values\n",
    "unique_page_ids = set(page_ids)\n",
    "unique_page_ids = list(unique_page_ids)\n",
    "\n",
    "\n",
    "# Count unique page_id values\n",
    "unique_page_id_count = len(unique_page_ids)\n",
    "\n",
    "print(f'The number of unique page_id values is: {unique_page_id_count}')\n",
    "print(f'The unique page_id values are: {unique_page_ids}')"
   ]
  },
  {
   "cell_type": "code",
   "execution_count": 8,
   "metadata": {},
   "outputs": [
    {
     "name": "stdout",
     "output_type": "stream",
     "text": [
      "The number of unique region values is: 19\n",
      "The unique region values are: ['Hradec Králové Region', 'Central Bohemian Region', 'Bayern', 'Moravian-Silesian Region', 'Liberec Region', 'Cundinamarca', 'Zlín Region', 'Vysočina Region', 'Karlovy Vary Region', 'Unknown', 'Plzeň Region', 'Silesian Voivodeship', 'Pardubice Region', 'Crete', 'South Bohemian Region', 'Prague', 'South Moravian Region', 'Olomouc Region', 'Ústí nad Labem Region']\n"
     ]
    }
   ],
   "source": [
    "# Extract all region values\n",
    "regions = [region['region'] for ad in data if ad.get('delivery_by_region') for region in ad['delivery_by_region']]\n",
    "\n",
    "# Get unique region values\n",
    "unique_regions = set(regions)\n",
    "unique_regions = list(unique_regions)\n",
    "\n",
    "# Count unique region values\n",
    "unique_region_count = len(unique_regions)\n",
    "\n",
    "print(f'The number of unique region values is: {unique_region_count}')\n",
    "print(f'The unique region values are: {unique_regions}')"
   ]
  },
  {
   "cell_type": "code",
   "execution_count": 1,
   "metadata": {},
   "outputs": [
    {
     "name": "stdout",
     "output_type": "stream",
     "text": [
      "                                            File Name  Object Count\n",
      "0                                         data_1.json             0\n",
      "1          data_Svoboda a přímá demokracie (SPD).json          1769\n",
      "2              data_Občanská demokratická strana.json          3418\n",
      "3         data_Komunistická strana Čech a Moravy.json           341\n",
      "4                             data_Český rozhlas.json          3099\n",
      "5                    data_Starostové a nezávislí.json          2568\n",
      "6                                       data_ANO.json          1971\n",
      "7                data_Svoboda a přímá demokracie.json          2309\n",
      "8                     data_Česká pirátská strana.json         10587\n",
      "9                  data_EU Justice and Consumers.json            39\n",
      "10                                data_EU Social.json            45\n",
      "11                                  data_KDU-ČSL.json         10496\n",
      "12                    data_Milion Chvilek, z. s..json          2783\n",
      "13                                 data_Tipsport.json            67\n",
      "14                             data_Replastuj.cz.json           264\n",
      "15                                 data_ANO 2011.json           603\n",
      "16                            data_Ondrej Prokop.json          1655\n",
      "17                                   data_SEN 21.json           307\n",
      "18                                     data_ČSOB.json            99\n",
      "19               data_Svoboda zvířat Plzeň, z.s..json             0\n",
      "20                                      data_ODS.json           918\n",
      "21                   data_Člověk v tísni, o.p.s..json          1133\n",
      "22               data_Greenpeace Česká republika.json          5531\n",
      "23              data_Kupředu do minulosti s.r.o..json           964\n",
      "24  data_Lékaři bez hranic - Médecins Sans Frontiè...           342\n",
      "25                              data_Martin Kuba.json           384\n",
      "26        data_Ministerstvo pro místní rozvoj ČR.json           169\n",
      "27            data_Česká pirátská strana - Praha.json          1547\n",
      "28                     data_CARE Česká republika.json           156\n",
      "29  data_PŘÍSAHA - občanské hnutí Roberta Šlachty....           312\n",
      "30            data_Transparency International ČR.json          1189\n",
      "31                  data_CZECH NEWS CENTER a. s..json          1270\n",
      "32                            data_Karel Janeček.json           490\n",
      "33                         data_Tomáš Zdechovský.json           252\n",
      "34                 data_Zelení - Strana zelených.json          1715\n",
      "35                                     data_STAN.json           604\n",
      "36                               data_PRAHA SOBĚ.json          1031\n",
      "37                                   data_TOP 09.json          4461\n",
      "38                            data_Oldřich Hájek.json           185\n",
      "39  data_Hnutí DUHA - Přátelé Země Česká republika...          1452\n",
      "40     data_Ministerstvo práce a sociálních věcí.json           491\n",
      "41                   data_SH media, spol. s r.o..json          1045\n",
      "42                    data_Člověk v tísni o.p.s..json           316\n",
      "43                         data_Reportér magazín.json           947\n",
      "44                   data_Zdeněk Hraba - senátor.json          2276\n",
      "45                      data_Sociální demokracie.json           913\n",
      "46                             data_Andrej Babiš.json           325\n",
      "47       data_ODS - Občanská demokratická strana.json          8860\n",
      "48                       data_Naše zdravotnictví.json          1631\n",
      "49                                      data_XTV.json          1274\n",
      "50                                data_FTV Prima.json           104\n",
      "51                 data_Amnesty International ČR.json           403\n",
      "52                   data_Aliance pro budoucnost.json           761\n",
      "53   data_EUROPEUM Institute for European Policy.json           542\n",
      "54            data_Starostové a nezávislí • STAN.json          2769\n",
      "55                                     data_DFMG.json           318\n"
     ]
    }
   ],
   "source": [
    "import json\n",
    "import os\n",
    "import pandas as pd\n",
    "\n",
    "base_dir = os.getcwd()\n",
    "output_dir = os.path.join(base_dir, \"bylines_ads\")\n",
    "\n",
    "# Initialize a list to store the file names and their respective object counts\n",
    "file_counts = []\n",
    "\n",
    "# Iterate through all files in the output_dir\n",
    "for filename in os.listdir(output_dir):\n",
    "    if filename.endswith(\".json\"): # Ensure only JSON files are processed\n",
    "        file_path = os.path.join(output_dir, filename)\n",
    "        try:\n",
    "            with open(file_path, 'r', encoding='utf-8') as file:\n",
    "                data = json.load(file)\n",
    "                object_count = len(data) if isinstance(data, list) else 1\n",
    "                file_counts.append({\n",
    "                    'File Name': filename,\n",
    "                    'Object Count': object_count\n",
    "                })\n",
    "        except json.JSONDecodeError as e:\n",
    "            print(f\"Error parsing {filename}: {e}\")\n",
    "\n",
    "# Convert the list to a DataFrame\n",
    "df = pd.DataFrame(file_counts)\n",
    "\n",
    "# Print or save the DataFrame as needed\n",
    "print(df)\n",
    "# df.to_csv('file_counts.csv', index=False) # Uncomment to save to a CSV file\n"
   ]
  }
 ],
 "metadata": {
  "kernelspec": {
   "display_name": "Python 3",
   "language": "python",
   "name": "python3"
  },
  "language_info": {
   "codemirror_mode": {
    "name": "ipython",
    "version": 3
   },
   "file_extension": ".py",
   "mimetype": "text/x-python",
   "name": "python",
   "nbconvert_exporter": "python",
   "pygments_lexer": "ipython3",
   "version": "3.13.0"
  },
  "orig_nbformat": 4
 },
 "nbformat": 4,
 "nbformat_minor": 2
}
