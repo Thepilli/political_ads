{
 "cells": [
  {
   "cell_type": "code",
   "execution_count": 9,
   "metadata": {},
   "outputs": [],
   "source": [
    "import pandas as pd\n",
    "import os\n",
    "output_dir = os.getcwd()\n",
    "\n",
    "creative_data = pd.read_csv(f'{output_dir}/master_creative_data.csv')\n",
    "demo_data = pd.read_csv(f'{output_dir}/master_demo_data.csv')\n",
    "fact_data = pd.read_csv(f'{output_dir}/master_fact_data.csv')\n",
    "platform_data = pd.read_csv(f'{output_dir}/master_platform_data.csv')\n",
    "reach_data = pd.read_csv(f'{output_dir}/master_reach_data.csv')\n",
    "region_data = pd.read_csv(f'{output_dir}/master_region_data.csv')\n",
    "\n"
   ]
  },
  {
   "cell_type": "code",
   "execution_count": null,
   "metadata": {},
   "outputs": [],
   "source": [
    "\n",
    "print(f'no of records in creative_data: {len(creative_data)}')\n",
    "print(f'no of records in demo_data: {len(demo_data)}')\n",
    "print(f'no of records in fact_data: {len(fact_data)}')\n",
    "print(f'no of records in platform_data: {len(platform_data)}')\n",
    "print(f'no of records in reach_data: {len(reach_data)}')\n",
    "print(f'no of records in region_data: {len(region_data)}')"
   ]
  },
  {
   "cell_type": "code",
   "execution_count": 31,
   "metadata": {},
   "outputs": [
    {
     "name": "stdout",
     "output_type": "stream",
     "text": [
      "266535\n"
     ]
    }
   ],
   "source": [
    "# demo_data\n",
    "\n",
    "demo_data_filtered = demo_data[demo_data['gender'] != 'unknown']\n",
    "print(len(demo_data_filtered))\n",
    "demo_data_filtered.to_csv(f'{output_dir}/master_demo_data_filtered.csv', index=False)"
   ]
  },
  {
   "cell_type": "code",
   "execution_count": 30,
   "metadata": {},
   "outputs": [
    {
     "name": "stdout",
     "output_type": "stream",
     "text": [
      "249575\n"
     ]
    }
   ],
   "source": [
    "# region_data\n",
    "\n",
    "regions_to_filter = ['Central Bohemian Region','Pardubice Region','Prague','South Moravian Region','Olomouc Region','Zlín Region','Hradec Králové Region','Plzeň Region','Moravian-Silesian Region','South Bohemian Region','Liberec Region','Vysočina Region','Ústí nad Labem Region','Karlovy Vary Region']\n",
    "filtered_region_data = region_data[region_data['region'].isin(regions_to_filter)]\n",
    "print(len(filtered_region_data))\n",
    "filtered_region_data.to_csv(f'{output_dir}/master_region_data_filtered.csv', index=False)"
   ]
  },
  {
   "cell_type": "code",
   "execution_count": null,
   "metadata": {},
   "outputs": [],
   "source": [
    "set = region_data.groupby('region').size()\n",
    "set = set.sort_values(ascending=False)\n",
    "set.head(15)"
   ]
  }
 ],
 "metadata": {
  "kernelspec": {
   "display_name": "Python 3",
   "language": "python",
   "name": "python3"
  },
  "language_info": {
   "codemirror_mode": {
    "name": "ipython",
    "version": 3
   },
   "file_extension": ".py",
   "mimetype": "text/x-python",
   "name": "python",
   "nbconvert_exporter": "python",
   "pygments_lexer": "ipython3",
   "version": "3.13.0"
  }
 },
 "nbformat": 4,
 "nbformat_minor": 2
}
