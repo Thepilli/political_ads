{
 "cells": [
  {
   "cell_type": "code",
   "execution_count": 1,
   "metadata": {},
   "outputs": [
    {
     "data": {
      "text/html": [
       "<div>\n",
       "<style scoped>\n",
       "    .dataframe tbody tr th:only-of-type {\n",
       "        vertical-align: middle;\n",
       "    }\n",
       "\n",
       "    .dataframe tbody tr th {\n",
       "        vertical-align: top;\n",
       "    }\n",
       "\n",
       "    .dataframe thead th {\n",
       "        text-align: right;\n",
       "    }\n",
       "</style>\n",
       "<table border=\"1\" class=\"dataframe\">\n",
       "  <thead>\n",
       "    <tr style=\"text-align: right;\">\n",
       "      <th></th>\n",
       "      <th>id</th>\n",
       "      <th>spend_lower</th>\n",
       "      <th>spend_upper</th>\n",
       "      <th>impressions_lower</th>\n",
       "      <th>impressions_upper</th>\n",
       "      <th>currency</th>\n",
       "      <th>ad_delivery_start_time</th>\n",
       "      <th>ad_delivery_stop_time</th>\n",
       "      <th>search_page_ids</th>\n",
       "      <th>bylines</th>\n",
       "      <th>target_gender</th>\n",
       "      <th>eu_total_reach</th>\n",
       "      <th>estimated_audience_size</th>\n",
       "    </tr>\n",
       "  </thead>\n",
       "  <tbody>\n",
       "    <tr>\n",
       "      <th>0</th>\n",
       "      <td>914730397390747</td>\n",
       "      <td>400</td>\n",
       "      <td>499</td>\n",
       "      <td>20000</td>\n",
       "      <td>24999.0</td>\n",
       "      <td>CZK</td>\n",
       "      <td>2024-12-20</td>\n",
       "      <td>2024-12-24</td>\n",
       "      <td>30575632699</td>\n",
       "      <td>ODS - Občanská demokratická strana</td>\n",
       "      <td>All</td>\n",
       "      <td>22022.0</td>\n",
       "      <td>500001</td>\n",
       "    </tr>\n",
       "    <tr>\n",
       "      <th>1</th>\n",
       "      <td>3393849777418338</td>\n",
       "      <td>500</td>\n",
       "      <td>599</td>\n",
       "      <td>20000</td>\n",
       "      <td>24999.0</td>\n",
       "      <td>CZK</td>\n",
       "      <td>2024-12-20</td>\n",
       "      <td>2024-12-23</td>\n",
       "      <td>30575632699</td>\n",
       "      <td>ODS - Občanská demokratická strana</td>\n",
       "      <td>All</td>\n",
       "      <td>24111.0</td>\n",
       "      <td>1000001</td>\n",
       "    </tr>\n",
       "    <tr>\n",
       "      <th>2</th>\n",
       "      <td>877988764497403</td>\n",
       "      <td>1500</td>\n",
       "      <td>1999</td>\n",
       "      <td>60000</td>\n",
       "      <td>69999.0</td>\n",
       "      <td>CZK</td>\n",
       "      <td>2024-12-20</td>\n",
       "      <td>2024-12-24</td>\n",
       "      <td>30575632699</td>\n",
       "      <td>ODS - Občanská demokratická strana</td>\n",
       "      <td>All</td>\n",
       "      <td>61147.0</td>\n",
       "      <td>1000001</td>\n",
       "    </tr>\n",
       "    <tr>\n",
       "      <th>3</th>\n",
       "      <td>1537281813587854</td>\n",
       "      <td>900</td>\n",
       "      <td>999</td>\n",
       "      <td>45000</td>\n",
       "      <td>49999.0</td>\n",
       "      <td>CZK</td>\n",
       "      <td>2024-12-20</td>\n",
       "      <td>2024-12-23</td>\n",
       "      <td>30575632699</td>\n",
       "      <td>ODS - Občanská demokratická strana</td>\n",
       "      <td>All</td>\n",
       "      <td>48185.0</td>\n",
       "      <td>1000001</td>\n",
       "    </tr>\n",
       "    <tr>\n",
       "      <th>4</th>\n",
       "      <td>1316957255855043</td>\n",
       "      <td>1000</td>\n",
       "      <td>1499</td>\n",
       "      <td>60000</td>\n",
       "      <td>69999.0</td>\n",
       "      <td>CZK</td>\n",
       "      <td>2024-12-20</td>\n",
       "      <td>2024-12-23</td>\n",
       "      <td>30575632699</td>\n",
       "      <td>ODS - Občanská demokratická strana</td>\n",
       "      <td>All</td>\n",
       "      <td>63842.0</td>\n",
       "      <td>1000001</td>\n",
       "    </tr>\n",
       "  </tbody>\n",
       "</table>\n",
       "</div>"
      ],
      "text/plain": [
       "                 id  spend_lower  spend_upper  impressions_lower  \\\n",
       "0   914730397390747          400          499              20000   \n",
       "1  3393849777418338          500          599              20000   \n",
       "2   877988764497403         1500         1999              60000   \n",
       "3  1537281813587854          900          999              45000   \n",
       "4  1316957255855043         1000         1499              60000   \n",
       "\n",
       "   impressions_upper currency ad_delivery_start_time ad_delivery_stop_time  \\\n",
       "0            24999.0      CZK             2024-12-20            2024-12-24   \n",
       "1            24999.0      CZK             2024-12-20            2024-12-23   \n",
       "2            69999.0      CZK             2024-12-20            2024-12-24   \n",
       "3            49999.0      CZK             2024-12-20            2024-12-23   \n",
       "4            69999.0      CZK             2024-12-20            2024-12-23   \n",
       "\n",
       "   search_page_ids                             bylines target_gender  \\\n",
       "0      30575632699  ODS - Občanská demokratická strana           All   \n",
       "1      30575632699  ODS - Občanská demokratická strana           All   \n",
       "2      30575632699  ODS - Občanská demokratická strana           All   \n",
       "3      30575632699  ODS - Občanská demokratická strana           All   \n",
       "4      30575632699  ODS - Občanská demokratická strana           All   \n",
       "\n",
       "   eu_total_reach  estimated_audience_size  \n",
       "0         22022.0                   500001  \n",
       "1         24111.0                  1000001  \n",
       "2         61147.0                  1000001  \n",
       "3         48185.0                  1000001  \n",
       "4         63842.0                  1000001  "
      ]
     },
     "execution_count": 1,
     "metadata": {},
     "output_type": "execute_result"
    }
   ],
   "source": [
    "import pandas as pd\n",
    "\n",
    "# Replace 'your_file.csv' with the path to your CSV file\n",
    "df = pd.read_csv('/Users/zackrawr/Developer/Python_WS/political_ads/master_fact_data.csv')\n",
    "\n",
    "# Display the first few rows of the DataFrame\n",
    "df.head()"
   ]
  },
  {
   "cell_type": "code",
   "execution_count": 2,
   "metadata": {},
   "outputs": [
    {
     "name": "stdout",
     "output_type": "stream",
     "text": [
      "<class 'pandas.core.frame.DataFrame'>\n",
      "RangeIndex: 19690226 entries, 0 to 19690225\n",
      "Data columns (total 13 columns):\n",
      " #   Column                   Dtype  \n",
      "---  ------                   -----  \n",
      " 0   id                       int64  \n",
      " 1   spend_lower              int64  \n",
      " 2   spend_upper              int64  \n",
      " 3   impressions_lower        int64  \n",
      " 4   impressions_upper        float64\n",
      " 5   currency                 object \n",
      " 6   ad_delivery_start_time   object \n",
      " 7   ad_delivery_stop_time    object \n",
      " 8   search_page_ids          int64  \n",
      " 9   bylines                  object \n",
      " 10  target_gender            object \n",
      " 11  eu_total_reach           float64\n",
      " 12  estimated_audience_size  int64  \n",
      "dtypes: float64(2), int64(6), object(5)\n",
      "memory usage: 1.9+ GB\n"
     ]
    }
   ],
   "source": [
    "df.info()"
   ]
  },
  {
   "cell_type": "code",
   "execution_count": 7,
   "metadata": {},
   "outputs": [],
   "source": [
    "list = df['search_page_ids'].tolist()\n",
    "set = set(list)"
   ]
  },
  {
   "cell_type": "code",
   "execution_count": 6,
   "metadata": {},
   "outputs": [
    {
     "name": "stdout",
     "output_type": "stream",
     "text": [
      "19690226\n"
     ]
    },
    {
     "ename": "TypeError",
     "evalue": "object of type 'type' has no len()",
     "output_type": "error",
     "traceback": [
      "\u001b[0;31m---------------------------------------------------------------------------\u001b[0m",
      "\u001b[0;31mTypeError\u001b[0m                                 Traceback (most recent call last)",
      "Cell \u001b[0;32mIn[6], line 2\u001b[0m\n\u001b[1;32m      1\u001b[0m \u001b[38;5;28mprint\u001b[39m(\u001b[38;5;28mlen\u001b[39m(\u001b[38;5;28mlist\u001b[39m))\n\u001b[0;32m----> 2\u001b[0m \u001b[38;5;28mprint\u001b[39m(\u001b[38;5;28;43mlen\u001b[39;49m\u001b[43m(\u001b[49m\u001b[38;5;28;43mset\u001b[39;49m\u001b[43m)\u001b[49m)\n",
      "\u001b[0;31mTypeError\u001b[0m: object of type 'type' has no len()"
     ]
    }
   ],
   "source": [
    "print(len(list))\n",
    "print(len(set))"
   ]
  }
 ],
 "metadata": {
  "kernelspec": {
   "display_name": "Python 3",
   "language": "python",
   "name": "python3"
  },
  "language_info": {
   "codemirror_mode": {
    "name": "ipython",
    "version": 3
   },
   "file_extension": ".py",
   "mimetype": "text/x-python",
   "name": "python",
   "nbconvert_exporter": "python",
   "pygments_lexer": "ipython3",
   "version": "3.13.0"
  }
 },
 "nbformat": 4,
 "nbformat_minor": 2
}
