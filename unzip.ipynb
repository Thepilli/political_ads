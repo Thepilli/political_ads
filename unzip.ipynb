{
 "cells": [
  {
   "cell_type": "code",
   "execution_count": 1,
   "metadata": {},
   "outputs": [],
   "source": [
    "import os\n",
    "import zipfile\n",
    "def unzip_archives_in_folder(folder_path):\n",
    "    for item in os.listdir(folder_path):\n",
    "        if item.endswith(\".zip\"):\n",
    "            zip_file_path = os.path.join(folder_path, item)\n",
    "            with zipfile.ZipFile(zip_file_path, 'r') as zip_ref:\n",
    "                zip_ref.extractall(folder_path)\n",
    "                \n",
    "                \n",
    "folder_path = \"/Users/zackrawr/Developer/Python_WS/zip\"\n",
    "unzip_archives_in_folder(folder_path)\n",
    "\n",
    "for item in os.listdir(folder_path):\n",
    "    if item.endswith(\".zip\"):\n",
    "        os.remove(os.path.join(folder_path, item))\n"
   ]
  },
  {
   "cell_type": "code",
   "execution_count": 1,
   "metadata": {},
   "outputs": [
    {
     "name": "stdout",
     "output_type": "stream",
     "text": [
      "           Page ID                 Page name  \\\n",
      "0      60516116431            Člověk v tísni   \n",
      "1  278117815576023  EU Justice and Consumers   \n",
      "2  137778619615350                   Voyo.cz   \n",
      "3     122074554119                 EU Social   \n",
      "4     299124538476            Zachraňme lesy   \n",
      "\n",
      "                                  Disclaimer Amount spent (CZK)  \\\n",
      "0                     Člověk v tísni, o.p.s.              38692   \n",
      "1                   EU Justice and Consumers              30316   \n",
      "2                           TV Nova s. r. o.              11599   \n",
      "3                                  EU Social              10898   \n",
      "4  Hnutí DUHA - Přátelé Země Česká republika               5803   \n",
      "\n",
      "   Number of ads in Library       Date  \n",
      "0                        36 2023-12-10  \n",
      "1                         3 2023-12-10  \n",
      "2                        10 2023-12-10  \n",
      "3                         8 2023-12-10  \n",
      "4                         7 2023-12-10  \n"
     ]
    }
   ],
   "source": [
    "import pandas as pd\n",
    "import os\n",
    "\n",
    "# Define the file path\n",
    "base_dir = os.getcwd()\n",
    "input_dir = os.path.join(base_dir, f\"daily_files/\")  \n",
    "file_name = \"FacebookAdLibraryReport_2023-12-10_CZ_yesterday_advertisers.csv\"\n",
    "file_path = os.path.join(input_dir, file_name)\n",
    "\n",
    "# Extract the date from the file name\n",
    "date_str = file_name.split('_')[1]\n",
    "\n",
    "# Read the CSV into a DataFrame and add the date column\n",
    "df = pd.read_csv(file_path)\n",
    "df['Date'] = pd.to_datetime(date_str)\n",
    "\n",
    "print(df.head())"
   ]
  },
  {
   "cell_type": "code",
   "execution_count": 2,
   "metadata": {},
   "outputs": [],
   "source": [
    "import pandas as pd\n",
    "import os\n",
    "\n",
    "# Define the file path\n",
    "base_dir = os.getcwd()\n",
    "input_dir = os.path.join(base_dir, f\"daily_files/\")  \n",
    "\n",
    "# Loop through the folder and append all CSV files\n",
    "all_files = []\n",
    "for file in os.listdir(input_dir):\n",
    "    if file.endswith(\".csv\"):\n",
    "        file_path = os.path.join(input_dir, file)\n",
    "        temp_df = pd.read_csv(file_path)\n",
    "        # Extract the date from the file name and add it as a column\n",
    "        date_str = file.split('_')[1]\n",
    "        temp_df['Date'] = pd.to_datetime(date_str)\n",
    "        all_files.append(temp_df)\n",
    "\n",
    "# Combine all dataframes into one\n",
    "df = pd.concat(all_files, ignore_index=True)\n"
   ]
  },
  {
   "cell_type": "code",
   "execution_count": 3,
   "metadata": {},
   "outputs": [],
   "source": [
    "df = df[df['Disclaimer'] != \"These ads ran without a disclaimer\"]"
   ]
  },
  {
   "cell_type": "code",
   "execution_count": 4,
   "metadata": {},
   "outputs": [],
   "source": [
    "df = df[df['Amount spent (CZK)'] != \"≤100\"]"
   ]
  },
  {
   "cell_type": "code",
   "execution_count": 5,
   "metadata": {},
   "outputs": [],
   "source": [
    "df['Amount spent (CZK)'] = pd.to_numeric(df['Amount spent (CZK)'], errors='coerce')"
   ]
  },
  {
   "cell_type": "code",
   "execution_count": 6,
   "metadata": {},
   "outputs": [],
   "source": [
    "backup_df = df.copy()"
   ]
  },
  {
   "cell_type": "code",
   "execution_count": 15,
   "metadata": {},
   "outputs": [
    {
     "name": "stdout",
     "output_type": "stream",
     "text": [
      "                                Disclaimer YearMonth  Amount spent (CZK)\n",
      "0                                      3PK   2024-07                 822\n",
      "1                                      3PK   2024-08               20966\n",
      "2                                      3PK   2024-09               95826\n",
      "3     3PK pro prosperující Českou Třebovou   2024-09                 200\n",
      "4                                  7Agency   2024-06               10001\n",
      "...                                    ...       ...                 ...\n",
      "4492                         Žižkovská noc   2023-12                 322\n",
      "4493                         Žižkovská noc   2024-12                2150\n",
      "4494                         Žižkovská noc   2025-03                 836\n",
      "4495                           Радио Прага   2024-11                 619\n",
      "4496                           Радио Прага   2024-12                1843\n",
      "\n",
      "[4497 rows x 3 columns]\n"
     ]
    }
   ],
   "source": [
    "# Extract the year-month from the Date column\n",
    "df['YearMonth'] = df['Date'].dt.to_period('M')\n",
    "\n",
    "# Group by Disclaimer and YearMonth, then sum the Amount spent (CZK)\n",
    "summary = df.groupby(['Disclaimer', 'YearMonth'])['Amount spent (CZK)'].sum().reset_index()\n",
    "\n",
    "print(summary)"
   ]
  },
  {
   "cell_type": "code",
   "execution_count": 7,
   "metadata": {},
   "outputs": [
    {
     "name": "stdout",
     "output_type": "stream",
     "text": [
      "                                Disclaimer  Year  Amount spent (CZK)\n",
      "0                                      3PK  2024              117614\n",
      "1     3PK pro prosperující Českou Třebovou  2024                 200\n",
      "2                                  7Agency  2024               12500\n",
      "3                                    8žije  2024                 700\n",
      "4                                    8žije  2025                 247\n",
      "...                                    ...   ...                 ...\n",
      "1469                       Žijeme reklamou  2024                 646\n",
      "1470                         Žižkovská noc  2023                 322\n",
      "1471                         Žižkovská noc  2024                2150\n",
      "1472                         Žižkovská noc  2025                 836\n",
      "1473                           Радио Прага  2024                2462\n",
      "\n",
      "[1474 rows x 3 columns]\n"
     ]
    }
   ],
   "source": [
    "# Extract the year from the Date column\n",
    "df['Year'] = df['Date'].dt.year\n",
    "\n",
    "# Group by Disclaimer and Year, then sum the Amount spent (CZK)\n",
    "annual_summary = df.groupby(['Disclaimer', 'Year'])['Amount spent (CZK)'].sum().reset_index()\n",
    "\n",
    "print(annual_summary)"
   ]
  },
  {
   "cell_type": "code",
   "execution_count": null,
   "metadata": {},
   "outputs": [],
   "source": []
  }
 ],
 "metadata": {
  "kernelspec": {
   "display_name": "Python 3",
   "language": "python",
   "name": "python3"
  },
  "language_info": {
   "codemirror_mode": {
    "name": "ipython",
    "version": 3
   },
   "file_extension": ".py",
   "mimetype": "text/x-python",
   "name": "python",
   "nbconvert_exporter": "python",
   "pygments_lexer": "ipython3",
   "version": "3.12.2"
  }
 },
 "nbformat": 4,
 "nbformat_minor": 2
}
