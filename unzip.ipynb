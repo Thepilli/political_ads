{
 "cells": [
  {
   "cell_type": "code",
   "execution_count": 1,
   "metadata": {},
   "outputs": [],
   "source": [
    "import os\n",
    "import zipfile\n",
    "def unzip_archives_in_folder(folder_path):\n",
    "    for item in os.listdir(folder_path):\n",
    "        if item.endswith(\".zip\"):\n",
    "            zip_file_path = os.path.join(folder_path, item)\n",
    "            with zipfile.ZipFile(zip_file_path, 'r') as zip_ref:\n",
    "                zip_ref.extractall(folder_path)\n",
    "                \n",
    "                \n",
    "folder_path = \"/Users/zackrawr/Developer/Python_WS/zip\"\n",
    "unzip_archives_in_folder(folder_path)\n",
    "\n",
    "for item in os.listdir(folder_path):\n",
    "    if item.endswith(\".zip\"):\n",
    "        os.remove(os.path.join(folder_path, item))\n"
   ]
  }
 ],
 "metadata": {
  "kernelspec": {
   "display_name": "Python 3",
   "language": "python",
   "name": "python3"
  },
  "language_info": {
   "codemirror_mode": {
    "name": "ipython",
    "version": 3
   },
   "file_extension": ".py",
   "mimetype": "text/x-python",
   "name": "python",
   "nbconvert_exporter": "python",
   "pygments_lexer": "ipython3",
   "version": "3.13.0"
  }
 },
 "nbformat": 4,
 "nbformat_minor": 2
}
