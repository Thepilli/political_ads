{
 "cells": [
  {
   "cell_type": "code",
   "execution_count": 4,
   "metadata": {},
   "outputs": [],
   "source": [
    "from selenium import webdriver\n",
    "from selenium.webdriver.chrome.service import Service\n",
    "from selenium.webdriver.common.by import By\n",
    "from webdriver_manager.chrome import ChromeDriverManager\n",
    "import time\n",
    "import pandas as pd\n",
    "import os\n",
    "\n",
    "INPUT_CSV_PATH = \"top500.csv\"\n",
    "df = pd.read_csv(os.path.join(os.getcwd(), INPUT_CSV_PATH), dtype=str)\n",
    "page_ids = df[\"Page ID\"].tolist()\n",
    "page_ids = [\"183496134175\",\"142955265738884\"]\n",
    "# Set up the Chrome driver\n",
    "service = Service(ChromeDriverManager().install())\n",
    "driver = webdriver.Chrome(service=service)\n",
    "\n",
    "# Take a screenshot of a specific element\n",
    "for page_id in page_ids:\n",
    "    driver.get(f\"https://www.facebook.com/ads/library/?active_status=all&ad_type=political_and_issue_ads&country=CZ&is_targeted_country=false&media_type=all&search_type=page&source=ad-report&view_all_page_id={page_id}\")\n",
    "    time.sleep(2)\n",
    "    os.makedirs(page_id, exist_ok=True)\n",
    "\n",
    "    element = driver.find_element(By.XPATH, '/html/body/div[1]/div/div/div/div/div/div/div[1]/div/div/div/div[3]/div/div[1]/div/div[1]/div/div/div')\n",
    "    element.screenshot(f'ad_data/{page_id}/{page_id}_logo.png')\n",
    "\n",
    "# # Close the browser   \n",
    "# driver.quit()"
   ]
  },
  {
   "cell_type": "code",
   "execution_count": 13,
   "metadata": {},
   "outputs": [
    {
     "ename": "NoSuchElementException",
     "evalue": "Message: no such element: Unable to locate element: {\"method\":\"tag name\",\"selector\":\"img\"}\n  (Session info: chrome=131.0.6778.205); For documentation on this error, please visit: https://www.selenium.dev/documentation/webdriver/troubleshooting/errors#no-such-element-exception\nStacktrace:\n\tGetHandleVerifier [0x011FEC13+23731]\n\t(No symbol) [0x0118C394]\n\t(No symbol) [0x0106BE63]\n\t(No symbol) [0x010AFCE6]\n\t(No symbol) [0x010AFF2B]\n\t(No symbol) [0x010A5A81]\n\t(No symbol) [0x010D1EA4]\n\t(No symbol) [0x010A59A4]\n\t(No symbol) [0x010D20F4]\n\t(No symbol) [0x010EB46E]\n\t(No symbol) [0x010D1BF6]\n\t(No symbol) [0x010A3F35]\n\t(No symbol) [0x010A4EBD]\n\tGetHandleVerifier [0x014DF0D3+3039603]\n\tGetHandleVerifier [0x014F2DEA+3120778]\n\tGetHandleVerifier [0x014EB592+3089970]\n\tGetHandleVerifier [0x012943B0+635984]\n\t(No symbol) [0x01194DCD]\n\t(No symbol) [0x01192068]\n\t(No symbol) [0x01192205]\n\t(No symbol) [0x01184FD0]\n\t(No symbol) [0x77545D49]\n\tRtlInitializeExceptionChain [0x77CBCEBB+107]\n\tRtlGetAppContainerNamedObjectPath [0x77CBCE41+561]\n",
     "output_type": "error",
     "traceback": [
      "\u001b[1;31m---------------------------------------------------------------------------\u001b[0m",
      "\u001b[1;31mNoSuchElementException\u001b[0m                    Traceback (most recent call last)",
      "Cell \u001b[1;32mIn[13], line 48\u001b[0m\n\u001b[0;32m     45\u001b[0m     driver\u001b[38;5;241m.\u001b[39mquit()\n\u001b[0;32m     47\u001b[0m \u001b[38;5;28;01mif\u001b[39;00m \u001b[38;5;18m__name__\u001b[39m \u001b[38;5;241m==\u001b[39m \u001b[38;5;124m\"\u001b[39m\u001b[38;5;124m__main__\u001b[39m\u001b[38;5;124m\"\u001b[39m:\n\u001b[1;32m---> 48\u001b[0m     \u001b[43mmain\u001b[49m\u001b[43m(\u001b[49m\u001b[43m)\u001b[49m\n",
      "Cell \u001b[1;32mIn[13], line 42\u001b[0m, in \u001b[0;36mmain\u001b[1;34m()\u001b[0m\n\u001b[0;32m     40\u001b[0m \u001b[38;5;28;01mfor\u001b[39;00m page_id \u001b[38;5;129;01min\u001b[39;00m page_ids:\n\u001b[0;32m     41\u001b[0m     navigate_to_page(driver, page_id)\n\u001b[1;32m---> 42\u001b[0m     \u001b[43mdownload_image\u001b[49m\u001b[43m(\u001b[49m\u001b[43mdriver\u001b[49m\u001b[43m,\u001b[49m\u001b[43m \u001b[49m\u001b[43mpage_id\u001b[49m\u001b[43m)\u001b[49m\n\u001b[0;32m     44\u001b[0m \u001b[38;5;66;03m# Close the browser\u001b[39;00m\n\u001b[0;32m     45\u001b[0m driver\u001b[38;5;241m.\u001b[39mquit()\n",
      "Cell \u001b[1;32mIn[13], line 27\u001b[0m, in \u001b[0;36mdownload_image\u001b[1;34m(driver, page_id)\u001b[0m\n\u001b[0;32m     25\u001b[0m \u001b[38;5;28;01mdef\u001b[39;00m \u001b[38;5;21mdownload_image\u001b[39m(driver, page_id):\n\u001b[0;32m     26\u001b[0m     div_element \u001b[38;5;241m=\u001b[39m driver\u001b[38;5;241m.\u001b[39mfind_element(By\u001b[38;5;241m.\u001b[39mCSS_SELECTOR, \u001b[38;5;124m\"\u001b[39m\u001b[38;5;124mdiv.x9f619.x1n2onr6.x1ja2u2z\u001b[39m\u001b[38;5;124m\"\u001b[39m)\n\u001b[1;32m---> 27\u001b[0m     image_element \u001b[38;5;241m=\u001b[39m \u001b[43mdiv_element\u001b[49m\u001b[38;5;241;43m.\u001b[39;49m\u001b[43mfind_element\u001b[49m\u001b[43m(\u001b[49m\u001b[43mBy\u001b[49m\u001b[38;5;241;43m.\u001b[39;49m\u001b[43mTAG_NAME\u001b[49m\u001b[43m,\u001b[49m\u001b[43m \u001b[49m\u001b[38;5;124;43m\"\u001b[39;49m\u001b[38;5;124;43mimg\u001b[39;49m\u001b[38;5;124;43m\"\u001b[39;49m\u001b[43m)\u001b[49m\n\u001b[0;32m     28\u001b[0m     image_src \u001b[38;5;241m=\u001b[39m image_element\u001b[38;5;241m.\u001b[39mget_attribute(\u001b[38;5;124m\"\u001b[39m\u001b[38;5;124msrc\u001b[39m\u001b[38;5;124m\"\u001b[39m)\n\u001b[0;32m     29\u001b[0m     img_data \u001b[38;5;241m=\u001b[39m requests\u001b[38;5;241m.\u001b[39mget(image_src)\u001b[38;5;241m.\u001b[39mcontent\n",
      "File \u001b[1;32mc:\\Users\\Jiri.Pillar\\AppData\\Local\\Programs\\Python\\Python312\\Lib\\site-packages\\selenium\\webdriver\\remote\\webelement.py:417\u001b[0m, in \u001b[0;36mWebElement.find_element\u001b[1;34m(self, by, value)\u001b[0m\n\u001b[0;32m    414\u001b[0m     by \u001b[38;5;241m=\u001b[39m By\u001b[38;5;241m.\u001b[39mCSS_SELECTOR\n\u001b[0;32m    415\u001b[0m     value \u001b[38;5;241m=\u001b[39m \u001b[38;5;124mf\u001b[39m\u001b[38;5;124m'\u001b[39m\u001b[38;5;124m[name=\u001b[39m\u001b[38;5;124m\"\u001b[39m\u001b[38;5;132;01m{\u001b[39;00mvalue\u001b[38;5;132;01m}\u001b[39;00m\u001b[38;5;124m\"\u001b[39m\u001b[38;5;124m]\u001b[39m\u001b[38;5;124m'\u001b[39m\n\u001b[1;32m--> 417\u001b[0m \u001b[38;5;28;01mreturn\u001b[39;00m \u001b[38;5;28;43mself\u001b[39;49m\u001b[38;5;241;43m.\u001b[39;49m\u001b[43m_execute\u001b[49m\u001b[43m(\u001b[49m\u001b[43mCommand\u001b[49m\u001b[38;5;241;43m.\u001b[39;49m\u001b[43mFIND_CHILD_ELEMENT\u001b[49m\u001b[43m,\u001b[49m\u001b[43m \u001b[49m\u001b[43m{\u001b[49m\u001b[38;5;124;43m\"\u001b[39;49m\u001b[38;5;124;43musing\u001b[39;49m\u001b[38;5;124;43m\"\u001b[39;49m\u001b[43m:\u001b[49m\u001b[43m \u001b[49m\u001b[43mby\u001b[49m\u001b[43m,\u001b[49m\u001b[43m \u001b[49m\u001b[38;5;124;43m\"\u001b[39;49m\u001b[38;5;124;43mvalue\u001b[39;49m\u001b[38;5;124;43m\"\u001b[39;49m\u001b[43m:\u001b[49m\u001b[43m \u001b[49m\u001b[43mvalue\u001b[49m\u001b[43m}\u001b[49m\u001b[43m)\u001b[49m[\u001b[38;5;124m\"\u001b[39m\u001b[38;5;124mvalue\u001b[39m\u001b[38;5;124m\"\u001b[39m]\n",
      "File \u001b[1;32mc:\\Users\\Jiri.Pillar\\AppData\\Local\\Programs\\Python\\Python312\\Lib\\site-packages\\selenium\\webdriver\\remote\\webelement.py:395\u001b[0m, in \u001b[0;36mWebElement._execute\u001b[1;34m(self, command, params)\u001b[0m\n\u001b[0;32m    393\u001b[0m     params \u001b[38;5;241m=\u001b[39m {}\n\u001b[0;32m    394\u001b[0m params[\u001b[38;5;124m\"\u001b[39m\u001b[38;5;124mid\u001b[39m\u001b[38;5;124m\"\u001b[39m] \u001b[38;5;241m=\u001b[39m \u001b[38;5;28mself\u001b[39m\u001b[38;5;241m.\u001b[39m_id\n\u001b[1;32m--> 395\u001b[0m \u001b[38;5;28;01mreturn\u001b[39;00m \u001b[38;5;28;43mself\u001b[39;49m\u001b[38;5;241;43m.\u001b[39;49m\u001b[43m_parent\u001b[49m\u001b[38;5;241;43m.\u001b[39;49m\u001b[43mexecute\u001b[49m\u001b[43m(\u001b[49m\u001b[43mcommand\u001b[49m\u001b[43m,\u001b[49m\u001b[43m \u001b[49m\u001b[43mparams\u001b[49m\u001b[43m)\u001b[49m\n",
      "File \u001b[1;32mc:\\Users\\Jiri.Pillar\\AppData\\Local\\Programs\\Python\\Python312\\Lib\\site-packages\\selenium\\webdriver\\remote\\webdriver.py:347\u001b[0m, in \u001b[0;36mWebDriver.execute\u001b[1;34m(self, driver_command, params)\u001b[0m\n\u001b[0;32m    345\u001b[0m response \u001b[38;5;241m=\u001b[39m \u001b[38;5;28mself\u001b[39m\u001b[38;5;241m.\u001b[39mcommand_executor\u001b[38;5;241m.\u001b[39mexecute(driver_command, params)\n\u001b[0;32m    346\u001b[0m \u001b[38;5;28;01mif\u001b[39;00m response:\n\u001b[1;32m--> 347\u001b[0m     \u001b[38;5;28;43mself\u001b[39;49m\u001b[38;5;241;43m.\u001b[39;49m\u001b[43merror_handler\u001b[49m\u001b[38;5;241;43m.\u001b[39;49m\u001b[43mcheck_response\u001b[49m\u001b[43m(\u001b[49m\u001b[43mresponse\u001b[49m\u001b[43m)\u001b[49m\n\u001b[0;32m    348\u001b[0m     response[\u001b[38;5;124m\"\u001b[39m\u001b[38;5;124mvalue\u001b[39m\u001b[38;5;124m\"\u001b[39m] \u001b[38;5;241m=\u001b[39m \u001b[38;5;28mself\u001b[39m\u001b[38;5;241m.\u001b[39m_unwrap_value(response\u001b[38;5;241m.\u001b[39mget(\u001b[38;5;124m\"\u001b[39m\u001b[38;5;124mvalue\u001b[39m\u001b[38;5;124m\"\u001b[39m, \u001b[38;5;28;01mNone\u001b[39;00m))\n\u001b[0;32m    349\u001b[0m     \u001b[38;5;28;01mreturn\u001b[39;00m response\n",
      "File \u001b[1;32mc:\\Users\\Jiri.Pillar\\AppData\\Local\\Programs\\Python\\Python312\\Lib\\site-packages\\selenium\\webdriver\\remote\\errorhandler.py:229\u001b[0m, in \u001b[0;36mErrorHandler.check_response\u001b[1;34m(self, response)\u001b[0m\n\u001b[0;32m    227\u001b[0m         alert_text \u001b[38;5;241m=\u001b[39m value[\u001b[38;5;124m\"\u001b[39m\u001b[38;5;124malert\u001b[39m\u001b[38;5;124m\"\u001b[39m]\u001b[38;5;241m.\u001b[39mget(\u001b[38;5;124m\"\u001b[39m\u001b[38;5;124mtext\u001b[39m\u001b[38;5;124m\"\u001b[39m)\n\u001b[0;32m    228\u001b[0m     \u001b[38;5;28;01mraise\u001b[39;00m exception_class(message, screen, stacktrace, alert_text)  \u001b[38;5;66;03m# type: ignore[call-arg]  # mypy is not smart enough here\u001b[39;00m\n\u001b[1;32m--> 229\u001b[0m \u001b[38;5;28;01mraise\u001b[39;00m exception_class(message, screen, stacktrace)\n",
      "\u001b[1;31mNoSuchElementException\u001b[0m: Message: no such element: Unable to locate element: {\"method\":\"tag name\",\"selector\":\"img\"}\n  (Session info: chrome=131.0.6778.205); For documentation on this error, please visit: https://www.selenium.dev/documentation/webdriver/troubleshooting/errors#no-such-element-exception\nStacktrace:\n\tGetHandleVerifier [0x011FEC13+23731]\n\t(No symbol) [0x0118C394]\n\t(No symbol) [0x0106BE63]\n\t(No symbol) [0x010AFCE6]\n\t(No symbol) [0x010AFF2B]\n\t(No symbol) [0x010A5A81]\n\t(No symbol) [0x010D1EA4]\n\t(No symbol) [0x010A59A4]\n\t(No symbol) [0x010D20F4]\n\t(No symbol) [0x010EB46E]\n\t(No symbol) [0x010D1BF6]\n\t(No symbol) [0x010A3F35]\n\t(No symbol) [0x010A4EBD]\n\tGetHandleVerifier [0x014DF0D3+3039603]\n\tGetHandleVerifier [0x014F2DEA+3120778]\n\tGetHandleVerifier [0x014EB592+3089970]\n\tGetHandleVerifier [0x012943B0+635984]\n\t(No symbol) [0x01194DCD]\n\t(No symbol) [0x01192068]\n\t(No symbol) [0x01192205]\n\t(No symbol) [0x01184FD0]\n\t(No symbol) [0x77545D49]\n\tRtlInitializeExceptionChain [0x77CBCEBB+107]\n\tRtlGetAppContainerNamedObjectPath [0x77CBCE41+561]\n"
     ]
    }
   ],
   "source": [
    "from selenium import webdriver\n",
    "from selenium.webdriver.chrome.service import Service\n",
    "from selenium.webdriver.common.by import By\n",
    "from webdriver_manager.chrome import ChromeDriverManager\n",
    "import time\n",
    "import pandas as pd\n",
    "import os\n",
    "import requests\n",
    "\n",
    "INPUT_CSV_PATH = \"top500.csv\"\n",
    "\n",
    "def load_page_ids(csv_path):\n",
    "    df = pd.read_csv(os.path.join(os.getcwd(), csv_path), dtype=str)\n",
    "    return df[\"Page ID\"].tolist()\n",
    "\n",
    "def setup_chrome_driver():\n",
    "    service = Service(ChromeDriverManager().install())\n",
    "    return webdriver.Chrome(service=service)\n",
    "\n",
    "def navigate_to_page(driver, page_id):\n",
    "    url = f\"https://www.facebook.com/ads/library/?active_status=all&ad_type=political_and_issue_ads&country=CZ&is_targeted_country=false&media_type=all&search_type=page&source=ad-report&view_all_page_id={page_id}\"\n",
    "    driver.get(url)\n",
    "    time.sleep(2)\n",
    "\n",
    "def download_image(driver, page_id):\n",
    "    div_element = driver.find_element(By.CSS_SELECTOR, \"div.x9f619.x1n2onr6.x1ja2u2z\")\n",
    "    image_element = div_element.find_element(By.TAG_NAME, \"img\")\n",
    "    image_src = image_element.get_attribute(\"src\")\n",
    "    img_data = requests.get(image_src).content\n",
    "    os.makedirs(os.path.join('ad_data', page_id), exist_ok=True)\n",
    "    with open(f'ad_data/{page_id}/{page_id}_logo.png', 'wb') as handler:\n",
    "        handler.write(img_data)\n",
    "\n",
    "def main():\n",
    "    page_ids = load_page_ids(INPUT_CSV_PATH)\n",
    "    # For testing purposes, you can limit the page IDs\n",
    "    # page_ids = [\"183496134175\", \"142955265738884\"]\n",
    "    driver = setup_chrome_driver()\n",
    "    \n",
    "    for page_id in page_ids:\n",
    "        navigate_to_page(driver, page_id)\n",
    "        download_image(driver, page_id)\n",
    "    \n",
    "    # Close the browser\n",
    "    driver.quit()\n",
    "\n",
    "if __name__ == \"__main__\":\n",
    "    main()\n"
   ]
  }
 ],
 "metadata": {
  "kernelspec": {
   "display_name": "Python 3",
   "language": "python",
   "name": "python3"
  },
  "language_info": {
   "codemirror_mode": {
    "name": "ipython",
    "version": 3
   },
   "file_extension": ".py",
   "mimetype": "text/x-python",
   "name": "python",
   "nbconvert_exporter": "python",
   "pygments_lexer": "ipython3",
   "version": "3.12.1"
  }
 },
 "nbformat": 4,
 "nbformat_minor": 2
}
