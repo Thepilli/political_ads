{
 "cells": [
  {
   "cell_type": "code",
   "execution_count": 3,
   "metadata": {},
   "outputs": [],
   "source": [
    "from selenium import webdriver\n",
    "from selenium.webdriver.chrome.service import Service\n",
    "from selenium.webdriver.common.by import By\n",
    "from webdriver_manager.chrome import ChromeDriverManager\n",
    "import time\n",
    "import pandas as pd\n",
    "import os\n",
    "\n",
    "# INPUT_CSV_PATH = \"top500.csv\"\n",
    "# df = pd.read_csv(os.path.join(os.getcwd(), INPUT_CSV_PATH), dtype=str)\n",
    "# page_ids = df[\"Page ID\"].tolist()\n",
    "page_ids = [\"183496134175\",\"142955265738884\"]\n",
    "# Set up the Chrome driver\n",
    "service = Service(ChromeDriverManager().install())\n",
    "driver = webdriver.Chrome(service=service)\n",
    "\n",
    "# Take a screenshot of a specific element\n",
    "for page_id in page_ids:\n",
    "    driver.get(f\"https://www.facebook.com/ads/library/?active_status=all&ad_type=political_and_issue_ads&country=CZ&is_targeted_country=false&media_type=all&search_type=page&source=ad-report&view_all_page_id={page_id}\")\n",
    "    time.sleep(2)\n",
    "    os.makedirs(page_id, exist_ok=True)\n",
    "\n",
    "    element = driver.find_element(By.XPATH, '/html/body/div[1]/div/div/div/div/div/div/div[1]/div/div/div/div[3]/div/div[1]/div/div[1]/div/div/div')\n",
    "    element.screenshot(f'ad_data/{page_id}/{page_id}_logo.png')\n",
    "\n",
    "# # Close the browser   \n",
    "# driver.quit()"
   ]
  }
 ],
 "metadata": {
  "kernelspec": {
   "display_name": "Python 3",
   "language": "python",
   "name": "python3"
  },
  "language_info": {
   "codemirror_mode": {
    "name": "ipython",
    "version": 3
   },
   "file_extension": ".py",
   "mimetype": "text/x-python",
   "name": "python",
   "nbconvert_exporter": "python",
   "pygments_lexer": "ipython3",
   "version": "3.12.2"
  }
 },
 "nbformat": 4,
 "nbformat_minor": 2
}
