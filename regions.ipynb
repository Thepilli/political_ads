{
 "cells": [
  {
   "cell_type": "code",
   "execution_count": 1,
   "metadata": {},
   "outputs": [],
   "source": [
    "import os\n",
    "import pandas as pd\n",
    "\n",
    "# Define the folder path\n",
    "folder_path = 'C://Users//jirip//Documents//Developer//python//REGIONS_REPORT//regions'\n",
    "\n",
    "# List to hold dataframes\n",
    "dfs = []\n",
    "# Add a column for the source file name\n",
    "for filename in os.listdir(folder_path):\n",
    "    if filename.endswith('.csv'):\n",
    "        file_path = os.path.join(folder_path, filename)\n",
    "        df = pd.read_csv(file_path)\n",
    "        df['Source File'] = filename\n",
    "        dfs.append(df.head(30))\n",
    "\n",
    "# for filename in os.listdir(folder_path):\n",
    "#     if filename.endswith('.csv'):\n",
    "#         file_path = os.path.join(folder_path, filename)\n",
    "#         df = pd.read_csv(file_path)\n",
    "#         dfs.append(df)\n",
    "\n",
    "# Concatenate all dataframes\n",
    "merged_df = pd.concat(dfs, ignore_index=True)\n",
    "# \n",
    "# # Display the merged dataframe\n",
    "# print(merged_df)"
   ]
  },
  {
   "cell_type": "code",
   "execution_count": 2,
   "metadata": {},
   "outputs": [],
   "source": [
    "# Convert \"Amount spent (CZK)\" to numeric, forcing errors to NaN\n",
    "merged_df['Amount spent (CZK)'] = pd.to_numeric(merged_df['Amount spent (CZK)'].str.replace('≤', ''), errors='coerce')\n",
    "# Group by \"Page ID\" and sum the \"Amount spent (CZK)\"\n",
    "sum_by_page_id = merged_df.groupby('Page ID')['Amount spent (CZK)'].sum().sort_values(ascending=False)\n",
    "# # Display the result\n",
    "# print(sum_by_page_id)"
   ]
  },
  {
   "cell_type": "code",
   "execution_count": 9,
   "metadata": {},
   "outputs": [],
   "source": [
    "df_all = pd.read_csv('C://Users//jirip//Documents//Developer//python//FacebookAdLibraryReport_2025-01-05_CZ_lifelong_advertisers.csv')\n",
    "df_all = df_all[df_all['Amount spent (CZK)'] != '≤100']\n",
    "df_all['Amount spent (CZK)'] = pd.to_numeric(df_all['Amount spent (CZK)'], errors='coerce')\n",
    "\n",
    "df_all_sum = df_all.groupby(['Page ID', 'Page name'])['Amount spent (CZK)'].sum().reset_index().sort_values('Amount spent (CZK)', ascending=False)\n",
    "df_all_sum.to_csv('C://Users//jirip//Documents//Developer//python//REGIONS_REPORT//regions//all_sum.csv', index=False,encoding='utf-8')"
   ]
  },
  {
   "cell_type": "code",
   "execution_count": 4,
   "metadata": {},
   "outputs": [],
   "source": [
    "df_all_sum_list = df_all_sum.head(100)['Page ID'].tolist()\n",
    "sum_by_page_list = sum_by_page_id.index.tolist()"
   ]
  },
  {
   "cell_type": "code",
   "execution_count": 5,
   "metadata": {},
   "outputs": [],
   "source": [
    "dif = list(set(sum_by_page_list) - set(df_all_sum_list))\n",
    "common_page_ids = list(set(sum_by_page_list) & set(df_all_sum_list))"
   ]
  }
 ],
 "metadata": {
  "kernelspec": {
   "display_name": "Python 3",
   "language": "python",
   "name": "python3"
  },
  "language_info": {
   "codemirror_mode": {
    "name": "ipython",
    "version": 3
   },
   "file_extension": ".py",
   "mimetype": "text/x-python",
   "name": "python",
   "nbconvert_exporter": "python",
   "pygments_lexer": "ipython3",
   "version": "3.12.2"
  }
 },
 "nbformat": 4,
 "nbformat_minor": 2
}
